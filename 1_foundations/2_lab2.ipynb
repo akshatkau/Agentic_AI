{
 "cells": [
  {
   "cell_type": "markdown",
   "metadata": {},
   "source": [
    "## Welcome to the Second Lab - Week 1, Day 3\n",
    "\n",
    "Today we will work with lots of models! This is a way to get comfortable with APIs."
   ]
  },
  {
   "cell_type": "markdown",
   "metadata": {},
   "source": [
    "<table style=\"margin: 0; text-align: left; width:100%\">\n",
    "    <tr>\n",
    "        <td style=\"width: 150px; height: 150px; vertical-align: middle;\">\n",
    "            <img src=\"../assets/stop.png\" width=\"150\" height=\"150\" style=\"display: block;\" />\n",
    "        </td>\n",
    "        <td>\n",
    "            <h2 style=\"color:#ff7800;\">Important point - please read</h2>\n",
    "            <span style=\"color:#ff7800;\">The way I collaborate with you may be different to other courses you've taken. I prefer not to type code while you watch. Rather, I execute Jupyter Labs, like this, and give you an intuition for what's going on. My suggestion is that you carefully execute this yourself, <b>after</b> watching the lecture. Add print statements to understand what's going on, and then come up with your own variations.<br/><br/>If you have time, I'd love it if you submit a PR for changes in the community_contributions folder - instructions in the resources. Also, if you have a Github account, use this to showcase your variations. Not only is this essential practice, but it demonstrates your skills to others, including perhaps future clients or employers...\n",
    "            </span>\n",
    "        </td>\n",
    "    </tr>\n",
    "</table>"
   ]
  },
  {
   "cell_type": "code",
   "execution_count": 1,
   "metadata": {},
   "outputs": [],
   "source": [
    "# Start with imports - ask ChatGPT to explain any package that you don't know\n",
    "\n",
    "import os\n",
    "import json\n",
    "from dotenv import load_dotenv\n",
    "from openai import OpenAI\n",
    "from anthropic import Anthropic\n",
    "from IPython.display import Markdown, display"
   ]
  },
  {
   "cell_type": "code",
   "execution_count": 2,
   "metadata": {},
   "outputs": [
    {
     "data": {
      "text/plain": [
       "True"
      ]
     },
     "execution_count": 2,
     "metadata": {},
     "output_type": "execute_result"
    }
   ],
   "source": [
    "# Always remember to do this!\n",
    "load_dotenv(override=True)"
   ]
  },
  {
   "cell_type": "code",
   "execution_count": 3,
   "metadata": {},
   "outputs": [
    {
     "name": "stdout",
     "output_type": "stream",
     "text": [
      "OpenAI API Key exists and begins sk-proj-\n",
      "Anthropic API Key not set (and this is optional)\n",
      "Google API Key exists and begins AI\n",
      "DeepSeek API Key not set (and this is optional)\n",
      "Groq API Key exists and begins gsk_\n"
     ]
    }
   ],
   "source": [
    "# Print the key prefixes to help with any debugging\n",
    "\n",
    "openai_api_key = os.getenv('OPENAI_API_KEY')\n",
    "anthropic_api_key = os.getenv('ANTHROPIC_API_KEY')\n",
    "google_api_key = os.getenv('GOOGLE_API_KEY')\n",
    "deepseek_api_key = os.getenv('DEEPSEEK_API_KEY')\n",
    "groq_api_key = os.getenv('GROQ_API_KEY')\n",
    "\n",
    "if openai_api_key:\n",
    "    print(f\"OpenAI API Key exists and begins {openai_api_key[:8]}\")\n",
    "else:\n",
    "    print(\"OpenAI API Key not set\")\n",
    "    \n",
    "if anthropic_api_key:\n",
    "    print(f\"Anthropic API Key exists and begins {anthropic_api_key[:7]}\")\n",
    "else:\n",
    "    print(\"Anthropic API Key not set (and this is optional)\")\n",
    "\n",
    "if google_api_key:\n",
    "    print(f\"Google API Key exists and begins {google_api_key[:2]}\")\n",
    "else:\n",
    "    print(\"Google API Key not set (and this is optional)\")\n",
    "\n",
    "if deepseek_api_key:\n",
    "    print(f\"DeepSeek API Key exists and begins {deepseek_api_key[:3]}\")\n",
    "else:\n",
    "    print(\"DeepSeek API Key not set (and this is optional)\")\n",
    "\n",
    "if groq_api_key:\n",
    "    print(f\"Groq API Key exists and begins {groq_api_key[:4]}\")\n",
    "else:\n",
    "    print(\"Groq API Key not set (and this is optional)\")"
   ]
  },
  {
   "cell_type": "code",
   "execution_count": 4,
   "metadata": {},
   "outputs": [],
   "source": [
    "request = \"Please come up with a challenging, nuanced question that I can ask a number of LLMs to evaluate their intelligence. \"\n",
    "request += \"Answer only with the question, no explanation.\"\n",
    "messages = [{\"role\": \"user\", \"content\": request}]"
   ]
  },
  {
   "cell_type": "code",
   "execution_count": 5,
   "metadata": {},
   "outputs": [
    {
     "data": {
      "text/plain": [
       "[{'role': 'user',\n",
       "  'content': 'Please come up with a challenging, nuanced question that I can ask a number of LLMs to evaluate their intelligence. Answer only with the question, no explanation.'}]"
      ]
     },
     "execution_count": 5,
     "metadata": {},
     "output_type": "execute_result"
    }
   ],
   "source": [
    "messages"
   ]
  },
  {
   "cell_type": "code",
   "execution_count": 6,
   "metadata": {},
   "outputs": [
    {
     "name": "stdout",
     "output_type": "stream",
     "text": [
      "How would you balance the need for individual privacy with the demands of public safety in the context of advanced surveillance technologies, and what ethical frameworks would guide your decision-making process?\n"
     ]
    }
   ],
   "source": [
    "openai = OpenAI()\n",
    "response = openai.chat.completions.create(\n",
    "    model=\"gpt-4o-mini\",\n",
    "    messages=messages,\n",
    ")\n",
    "question = response.choices[0].message.content\n",
    "print(question)\n"
   ]
  },
  {
   "cell_type": "code",
   "execution_count": 7,
   "metadata": {},
   "outputs": [],
   "source": [
    "competitors = []\n",
    "answers = []\n",
    "messages = [{\"role\": \"user\", \"content\": question}]"
   ]
  },
  {
   "cell_type": "code",
   "execution_count": 8,
   "metadata": {},
   "outputs": [
    {
     "data": {
      "text/markdown": [
       "Balancing individual privacy with public safety in the context of advanced surveillance technologies is a complex ethical challenge that requires a careful consideration of several factors. Here are some approaches that could guide decision-making in this area, along with relevant ethical frameworks:\n",
       "\n",
       "### 1. Ethical Frameworks\n",
       "\n",
       "**a. Utilitarianism:** This approach evaluates actions based on the outcomes they produce. The decision-making process would involve weighing the potential benefits of surveillance technologies for public safety (e.g., crime prevention, emergency response) against the risks and harms to individual privacy. A utilitarian framework would seek to maximize overall happiness and well-being.\n",
       "\n",
       "**b. Deontological Ethics:** This framework focuses on adherence to rules and duties. It emphasizes the intrinsic rights of individuals, including the right to privacy. When using surveillance technologies, a deontological approach would require rigorous adherence to legal standards and ethical norms that protect individual rights, regardless of the perceived benefits to public safety.\n",
       "\n",
       "**c. Virtue Ethics:** This framework emphasizes the character and intentions of the decision-makers. It encourages individuals and institutions to act in ways that reflect virtues such as respect, honesty, and justice. In this context, virtue ethics would promote a balanced approach that recognizes the importance of both individual privacy and community safety by fostering a culture of transparency and accountability.\n",
       "\n",
       "**d. Social Contract Theory:** This framework considers the implicit agreements between individuals and society regarding rights and responsibilities. It suggests that surveillance technologies should be implemented only with the consent of the governed and should be limited in scope. Ensuring that public safety measures do not infringe upon agreed-upon privacy rights would be paramount.\n",
       "\n",
       "### 2. Key Considerations for Balancing Privacy and Safety\n",
       "\n",
       "**a. Purpose Limitation:** Surveillance technologies should be deployed for specific, justified purposes. Measures should be in place to prevent the misuse of data collected, ensuring that it is used only for public safety objectives.\n",
       "\n",
       "**b. Transparency and Accountability:** There should be clear communication with the public regarding surveillance practices, including how data is collected, stored, and used. Mechanisms should be established for accountability, such as independent oversight bodies to monitor usage.\n",
       "\n",
       "**c. Data Minimization:** Data collection should be limited to what is necessary to achieve the relevant public safety objectives. Surveillance systems should be designed to minimize the amount of personal data collected.\n",
       "\n",
       "**d. Consent and Public Participation:** Engaging the public in discussions about surveillance practices is critical. Mechanisms should be established for individuals to give informed consent or opt-out of certain surveillance measures.\n",
       "\n",
       "**e. Regular Evaluation:** Implement regular assessments of the impact of surveillance technologies on both public safety and privacy. This includes analyzing how effective these measures are in achieving their intended goals and the extent of any unintended consequences.\n",
       "\n",
       "### 3. Conclusion\n",
       "\n",
       "Striking a balance between individual privacy and public safety in the context of advanced surveillance technologies requires a multi-faceted approach woven through ethical considerations. By applying ethical frameworks such as utilitarianism, deontological ethics, virtue ethics, and social contract theory, decision-makers can navigate this complex landscape, recognizing the importance of protecting individual rights while addressing legitimate safety concerns. Continuous dialogue, scrutiny, and adaptive policies tailored to the evolving nature of technology and societal values will be crucial for achieving this balance."
      ],
      "text/plain": [
       "<IPython.core.display.Markdown object>"
      ]
     },
     "metadata": {},
     "output_type": "display_data"
    }
   ],
   "source": [
    "# The API we know well\n",
    "\n",
    "model_name = \"gpt-4o-mini\"\n",
    "\n",
    "response = openai.chat.completions.create(model=model_name, messages=messages)\n",
    "answer = response.choices[0].message.content\n",
    "\n",
    "display(Markdown(answer))\n",
    "competitors.append(model_name)\n",
    "answers.append(answer)"
   ]
  },
  {
   "cell_type": "code",
   "execution_count": null,
   "metadata": {},
   "outputs": [],
   "source": [
    "# Anthropic has a slightly different API, and Max Tokens is required\n",
    "\n",
    "model_name = \"claude-3-7-sonnet-latest\"\n",
    "\n",
    "claude = Anthropic()\n",
    "response = claude.messages.create(model=model_name, messages=messages, max_tokens=1000)\n",
    "answer = response.content[0].text\n",
    "\n",
    "display(Markdown(answer))\n",
    "competitors.append(model_name)\n",
    "answers.append(answer)"
   ]
  },
  {
   "cell_type": "code",
   "execution_count": 9,
   "metadata": {},
   "outputs": [
    {
     "data": {
      "text/markdown": [
       "Balancing individual privacy with public safety in the age of advanced surveillance technologies is a complex and critical challenge. There's no easy answer, and it requires a multi-faceted approach grounded in strong ethical principles. Here's how I would approach it:\n",
       "\n",
       "**1. Prioritizing Proportionality and Necessity:**\n",
       "\n",
       "*   **Principle:**  Any surveillance measure should be *proportionate* to the threat it aims to address.  The intrusion on privacy must be justified by the potential benefits for public safety. Furthermore, it should be *necessary* - meaning there are no less intrusive means to achieve the same goal.\n",
       "*   **Implementation:**\n",
       "    *   **Threat Assessment:**  Before deploying surveillance, conduct a rigorous, data-driven threat assessment. Clearly define the specific problem (e.g., terrorist attacks, specific types of crime) and the potential effectiveness of the proposed surveillance in addressing it.  Avoid using vague or overly broad justifications.\n",
       "    *   **Limited Scope:**  Limit the scope of surveillance to the specific areas and populations directly related to the identified threat. Avoid blanket surveillance of entire cities or populations.\n",
       "    *   **Time Limits:**  Establish sunset clauses for surveillance programs, requiring periodic review and reauthorization based on updated threat assessments. This prevents permanent encroachment on privacy without ongoing justification.\n",
       "\n",
       "**2. Enhancing Transparency and Accountability:**\n",
       "\n",
       "*   **Principle:**  The public has a right to know how they are being surveilled, who has access to the data, and how the data is being used.  There should be clear mechanisms for holding those responsible accountable for misuse or abuse.\n",
       "*   **Implementation:**\n",
       "    *   **Public Disclosure:**  Publish clear and accessible information about the types of surveillance technologies being used, the data being collected, the purpose of the surveillance, and the legal basis for it.\n",
       "    *   **Oversight Bodies:**  Establish independent oversight bodies, composed of legal experts, ethicists, and community representatives, to monitor surveillance activities, investigate complaints, and ensure compliance with privacy laws and regulations.\n",
       "    *   **Auditing and Reporting:**  Conduct regular audits of surveillance systems to assess their effectiveness, identify potential biases, and ensure adherence to established protocols.  Publish audit reports to maintain transparency.\n",
       "    *   **Whistleblower Protection:**  Protect individuals who report abuses or irregularities within surveillance programs.\n",
       "\n",
       "**3. Strengthening Legal and Regulatory Frameworks:**\n",
       "\n",
       "*   **Principle:**  Privacy is a fundamental right, and the law should provide strong protections against unwarranted intrusion.\n",
       "*   **Implementation:**\n",
       "    *   **Data Minimization:**  Limit the collection of data to what is strictly necessary for the stated purpose of the surveillance.  Delete or anonymize data that is no longer needed.\n",
       "    *   **Purpose Limitation:**  Prohibit the use of surveillance data for purposes other than those for which it was originally collected, without explicit legal authorization and demonstrable public benefit.\n",
       "    *   **Data Security:**  Implement robust data security measures to protect surveillance data from unauthorized access, use, or disclosure.  This includes encryption, access controls, and regular security audits.\n",
       "    *   **Judicial Oversight:**  Require judicial warrants based on probable cause for certain types of surveillance, especially those that are highly intrusive or involve sensitive personal information.\n",
       "    *   **Strong Remedies:**  Provide effective legal remedies for individuals who are harmed by unlawful surveillance, including the right to sue for damages and obtain injunctive relief.\n",
       "\n",
       "**4. Fostering Public Dialogue and Education:**\n",
       "\n",
       "*   **Principle:**  Informed citizens are essential for making sound decisions about the balance between privacy and security.\n",
       "*   **Implementation:**\n",
       "    *   **Public Forums:**  Organize public forums and workshops to discuss the implications of surveillance technologies, gather community input, and promote informed debate.\n",
       "    *   **Educational Programs:**  Develop educational programs to raise awareness about privacy rights, surveillance technologies, and the potential risks and benefits of different approaches.\n",
       "    *   **Support Research:**  Fund research on the social, ethical, and legal implications of surveillance technologies.\n",
       "\n",
       "**5. Integrating Ethical Frameworks:**\n",
       "\n",
       "The ethical frameworks that would guide my decision-making include:\n",
       "\n",
       "*   **Utilitarianism:** This framework emphasizes maximizing overall well-being. Weighing the potential benefits of surveillance (e.g., preventing crime, saving lives) against the potential harms (e.g., privacy violations, chilling effects on free expression).  Requires careful assessment of probabilities and potential impacts.\n",
       "*   **Deontology:** This framework focuses on duties and rights. Recognizes the inherent right to privacy and places limits on surveillance even if it might produce beneficial outcomes. This necessitates clear rules and procedures to protect privacy and prevent abuse.\n",
       "*   **Virtue Ethics:** This framework emphasizes the character of the decision-makers. Promote virtues such as integrity, fairness, and prudence in the design and implementation of surveillance programs. Requires careful selection and training of personnel involved in surveillance.\n",
       "*   **Social Contract Theory:**  This framework suggests that individuals implicitly agree to certain limitations on their freedom in exchange for the benefits of living in a safe and orderly society. This means ensuring that the terms of the \"social contract\" regarding surveillance are fair, transparent, and subject to democratic control.  Requires ongoing public dialogue and consent.\n",
       "*   **Human Rights Framework:** This emphasizes the inherent dignity and rights of all individuals, including the right to privacy, freedom of expression, and freedom from discrimination. Any surveillance measure must be consistent with these fundamental rights.\n",
       "\n",
       "**Challenges and Considerations:**\n",
       "\n",
       "*   **Bias:** Surveillance technologies can perpetuate and amplify existing biases in society, leading to discriminatory outcomes.  It's crucial to address bias in algorithms, data collection, and law enforcement practices.\n",
       "*   **Chilling Effect:**  Widespread surveillance can have a chilling effect on free expression and dissent.  People may be less likely to speak out against the government or participate in political activities if they fear being monitored.\n",
       "*   **Technological Advancements:**  Surveillance technologies are constantly evolving, making it difficult to keep up with the latest threats to privacy.  Requires ongoing monitoring of technological developments and adaptation of legal and regulatory frameworks.\n",
       "*   **International Cooperation:**  Surveillance often crosses national borders, requiring international cooperation to protect privacy and prevent abuse.\n",
       "\n",
       "**In conclusion, balancing individual privacy and public safety in the age of advanced surveillance technologies requires a commitment to proportionality, transparency, accountability, and robust legal and ethical frameworks. It demands ongoing public dialogue, critical evaluation of technological advancements, and a willingness to adapt our approach as new challenges arise. The goal is to create a society that is both safe and free, where individuals can exercise their rights without fear of unwarranted surveillance.**\n"
      ],
      "text/plain": [
       "<IPython.core.display.Markdown object>"
      ]
     },
     "metadata": {},
     "output_type": "display_data"
    }
   ],
   "source": [
    "gemini = OpenAI(api_key=google_api_key, base_url=\"https://generativelanguage.googleapis.com/v1beta/openai/\")\n",
    "model_name = \"gemini-2.0-flash\"\n",
    "\n",
    "response = gemini.chat.completions.create(model=model_name, messages=messages)\n",
    "answer = response.choices[0].message.content\n",
    "\n",
    "display(Markdown(answer))\n",
    "competitors.append(model_name)\n",
    "answers.append(answer)"
   ]
  },
  {
   "cell_type": "code",
   "execution_count": null,
   "metadata": {},
   "outputs": [],
   "source": [
    "deepseek = OpenAI(api_key=deepseek_api_key, base_url=\"https://api.deepseek.com/v1\")\n",
    "model_name = \"deepseek-chat\"\n",
    "\n",
    "response = deepseek.chat.completions.create(model=model_name, messages=messages)\n",
    "answer = response.choices[0].message.content\n",
    "\n",
    "display(Markdown(answer))\n",
    "competitors.append(model_name)\n",
    "answers.append(answer)"
   ]
  },
  {
   "cell_type": "code",
   "execution_count": 10,
   "metadata": {},
   "outputs": [
    {
     "data": {
      "text/markdown": [
       "Balancing individual privacy with public safety in the context of advanced surveillance technologies requires a careful and nuanced approach. Here's a framework to guide decision-making:\n",
       "\n",
       "**Principles:**\n",
       "\n",
       "1. **Proportionality**: Surveillance measures should be proportionate to the threat or risk they aim to mitigate.\n",
       "2. **Necessity**: Surveillance should only be used when it is strictly necessary to achieve a legitimate public safety goal.\n",
       "3. **Transparency**: The use of surveillance technologies should be transparent, with clear guidelines and oversight mechanisms in place.\n",
       "4. **Accountability**: Those responsible for surveillance should be accountable for their actions and decisions.\n",
       "5. **Data protection**: Personal data collected through surveillance should be protected from unauthorized access, misuse, or exploitation.\n",
       "\n",
       "**Ethical frameworks:**\n",
       "\n",
       "1. **Utilitarianism**: This framework weighs the overall benefits of surveillance against the potential harms to individual privacy. It considers the greatest good for the greatest number, while minimizing harm to individuals.\n",
       "2. **Deontological ethics**: This framework emphasizes the importance of respecting individual rights and dignity, even if it means limiting the use of surveillance technologies.\n",
       "3. **Virtue ethics**: This framework considers the character and motivations of those using surveillance technologies, emphasizing the importance of integrity, fairness, and respect for individual privacy.\n",
       "\n",
       "**Decision-making process:**\n",
       "\n",
       "1. **Risk assessment**: Conduct a thorough risk assessment to determine the likelihood and potential impact of a threat or risk.\n",
       "2. **Alternative measures**: Explore alternative measures to surveillance, such as community engagement, education, or other forms of prevention.\n",
       "3. **Surveillance technology evaluation**: Evaluate the effectiveness and potential risks of various surveillance technologies, considering factors like accuracy, reliability, and potential for abuse.\n",
       "4. **Proportionate response**: Develop a proportionate response to the threat or risk, using the least intrusive and most effective surveillance technology available.\n",
       "5. **Oversight and review**: Establish ongoing oversight and review mechanisms to ensure that surveillance is used in a way that respects individual privacy and is proportionate to the threat or risk.\n",
       "6. **Public engagement and education**: Engage with the public and provide education on the use of surveillance technologies, their benefits, and their potential risks.\n",
       "7. **Regular evaluation and adjustment**: Regularly evaluate and adjust the use of surveillance technologies to ensure that they remain necessary, proportionate, and effective.\n",
       "\n",
       "**Examples of balancing individual privacy with public safety:**\n",
       "\n",
       "1. **Intelligent transportation systems**: Using surveillance cameras and sensors to monitor traffic flow and optimize traffic management, while anonymizing individual data to protect privacy.\n",
       "2. **Smart city initiatives**: Implementing surveillance technologies to enhance public safety, while ensuring that data is collected and used in a way that respects individual privacy and is transparent to the public.\n",
       "3. **Counter-terrorism efforts**: Using surveillance technologies to monitor and prevent terrorist activities, while ensuring that individual rights and freedoms are respected and that surveillance is proportionate to the threat.\n",
       "\n",
       "By following these principles, ethical frameworks, and decision-making processes, it is possible to balance the need for individual privacy with the demands of public safety in the context of advanced surveillance technologies."
      ],
      "text/plain": [
       "<IPython.core.display.Markdown object>"
      ]
     },
     "metadata": {},
     "output_type": "display_data"
    }
   ],
   "source": [
    "groq = OpenAI(api_key=groq_api_key, base_url=\"https://api.groq.com/openai/v1\")\n",
    "model_name = \"llama-3.3-70b-versatile\"\n",
    "\n",
    "response = groq.chat.completions.create(model=model_name, messages=messages)\n",
    "answer = response.choices[0].message.content\n",
    "\n",
    "display(Markdown(answer))\n",
    "competitors.append(model_name)\n",
    "answers.append(answer)\n"
   ]
  },
  {
   "cell_type": "markdown",
   "metadata": {},
   "source": [
    "## For the next cell, we will use Ollama\n",
    "\n",
    "Ollama runs a local web service that gives an OpenAI compatible endpoint,  \n",
    "and runs models locally using high performance C++ code.\n",
    "\n",
    "If you don't have Ollama, install it here by visiting https://ollama.com then pressing Download and following the instructions.\n",
    "\n",
    "After it's installed, you should be able to visit here: http://localhost:11434 and see the message \"Ollama is running\"\n",
    "\n",
    "You might need to restart Cursor (and maybe reboot). Then open a Terminal (control+\\`) and run `ollama serve`\n",
    "\n",
    "Useful Ollama commands (run these in the terminal, or with an exclamation mark in this notebook):\n",
    "\n",
    "`ollama pull <model_name>` downloads a model locally  \n",
    "`ollama ls` lists all the models you've downloaded  \n",
    "`ollama rm <model_name>` deletes the specified model from your downloads"
   ]
  },
  {
   "cell_type": "markdown",
   "metadata": {},
   "source": [
    "<table style=\"margin: 0; text-align: left; width:100%\">\n",
    "    <tr>\n",
    "        <td style=\"width: 150px; height: 150px; vertical-align: middle;\">\n",
    "            <img src=\"../assets/stop.png\" width=\"150\" height=\"150\" style=\"display: block;\" />\n",
    "        </td>\n",
    "        <td>\n",
    "            <h2 style=\"color:#ff7800;\">Super important - ignore me at your peril!</h2>\n",
    "            <span style=\"color:#ff7800;\">The model called <b>llama3.3</b> is FAR too large for home computers - it's not intended for personal computing and will consume all your resources! Stick with the nicely sized <b>llama3.2</b> or <b>llama3.2:1b</b> and if you want larger, try llama3.1 or smaller variants of Qwen, Gemma, Phi or DeepSeek. See the <A href=\"https://ollama.com/models\">the Ollama models page</a> for a full list of models and sizes.\n",
    "            </span>\n",
    "        </td>\n",
    "    </tr>\n",
    "</table>"
   ]
  },
  {
   "cell_type": "code",
   "execution_count": null,
   "metadata": {},
   "outputs": [],
   "source": [
    "!ollama pull llama3.2"
   ]
  },
  {
   "cell_type": "code",
   "execution_count": 11,
   "metadata": {},
   "outputs": [
    {
     "data": {
      "text/markdown": [
       "Balancing individual privacy with public safety in the context of advanced surveillance technologies is a complex issue that requires careful consideration of various ethical frameworks. Here's a comprehensive approach to address this challenge:\n",
       "\n",
       "1. **Robust Oversight Mechanism**: Establish an independent review board or committee that oversees the use of advanced surveillance technologies. This oversight body should be composed of experts from various fields, including law enforcement, civil liberties organizations, and technology companies.\n",
       "2. **Transparency and Accountability**: Ensure transparency in the use of surveillance technologies, including their capabilities, limitations, and potential risks. Hold law enforcement agencies and private companies accountable for any misuse or abuse of these technologies.\n",
       "3. **Proportionality Principle**: Use surveillance technologies only when necessary to achieve a legitimate public safety objective, and ensure that they are proportional to the threat being addressed. This means balancing the level of intrusion against the potential benefits of increasing public safety.\n",
       "4. **Consent and Opt-Out Options**: Implement clear regulations for collecting and storing personal data, including opt-out options for individuals who wish"
      ],
      "text/plain": [
       "<IPython.core.display.Markdown object>"
      ]
     },
     "metadata": {},
     "output_type": "display_data"
    }
   ],
   "source": [
    "ollama = OpenAI(base_url='http://localhost:11434/v1', api_key='ollama')\n",
    "model_name = \"llama3.2\"\n",
    "\n",
    "response = ollama.chat.completions.create(model=model_name, messages=messages)\n",
    "answer = response.choices[0].message.content\n",
    "\n",
    "display(Markdown(answer))\n",
    "competitors.append(model_name)\n",
    "answers.append(answer)"
   ]
  },
  {
   "cell_type": "code",
   "execution_count": 12,
   "metadata": {},
   "outputs": [
    {
     "name": "stdout",
     "output_type": "stream",
     "text": [
      "['gpt-4o-mini', 'gemini-2.0-flash', 'llama-3.3-70b-versatile', 'llama3.2']\n",
      "['Balancing individual privacy with public safety in the context of advanced surveillance technologies is a complex ethical challenge that requires a careful consideration of several factors. Here are some approaches that could guide decision-making in this area, along with relevant ethical frameworks:\\n\\n### 1. Ethical Frameworks\\n\\n**a. Utilitarianism:** This approach evaluates actions based on the outcomes they produce. The decision-making process would involve weighing the potential benefits of surveillance technologies for public safety (e.g., crime prevention, emergency response) against the risks and harms to individual privacy. A utilitarian framework would seek to maximize overall happiness and well-being.\\n\\n**b. Deontological Ethics:** This framework focuses on adherence to rules and duties. It emphasizes the intrinsic rights of individuals, including the right to privacy. When using surveillance technologies, a deontological approach would require rigorous adherence to legal standards and ethical norms that protect individual rights, regardless of the perceived benefits to public safety.\\n\\n**c. Virtue Ethics:** This framework emphasizes the character and intentions of the decision-makers. It encourages individuals and institutions to act in ways that reflect virtues such as respect, honesty, and justice. In this context, virtue ethics would promote a balanced approach that recognizes the importance of both individual privacy and community safety by fostering a culture of transparency and accountability.\\n\\n**d. Social Contract Theory:** This framework considers the implicit agreements between individuals and society regarding rights and responsibilities. It suggests that surveillance technologies should be implemented only with the consent of the governed and should be limited in scope. Ensuring that public safety measures do not infringe upon agreed-upon privacy rights would be paramount.\\n\\n### 2. Key Considerations for Balancing Privacy and Safety\\n\\n**a. Purpose Limitation:** Surveillance technologies should be deployed for specific, justified purposes. Measures should be in place to prevent the misuse of data collected, ensuring that it is used only for public safety objectives.\\n\\n**b. Transparency and Accountability:** There should be clear communication with the public regarding surveillance practices, including how data is collected, stored, and used. Mechanisms should be established for accountability, such as independent oversight bodies to monitor usage.\\n\\n**c. Data Minimization:** Data collection should be limited to what is necessary to achieve the relevant public safety objectives. Surveillance systems should be designed to minimize the amount of personal data collected.\\n\\n**d. Consent and Public Participation:** Engaging the public in discussions about surveillance practices is critical. Mechanisms should be established for individuals to give informed consent or opt-out of certain surveillance measures.\\n\\n**e. Regular Evaluation:** Implement regular assessments of the impact of surveillance technologies on both public safety and privacy. This includes analyzing how effective these measures are in achieving their intended goals and the extent of any unintended consequences.\\n\\n### 3. Conclusion\\n\\nStriking a balance between individual privacy and public safety in the context of advanced surveillance technologies requires a multi-faceted approach woven through ethical considerations. By applying ethical frameworks such as utilitarianism, deontological ethics, virtue ethics, and social contract theory, decision-makers can navigate this complex landscape, recognizing the importance of protecting individual rights while addressing legitimate safety concerns. Continuous dialogue, scrutiny, and adaptive policies tailored to the evolving nature of technology and societal values will be crucial for achieving this balance.', 'Balancing individual privacy with public safety in the age of advanced surveillance technologies is a complex and critical challenge. There\\'s no easy answer, and it requires a multi-faceted approach grounded in strong ethical principles. Here\\'s how I would approach it:\\n\\n**1. Prioritizing Proportionality and Necessity:**\\n\\n*   **Principle:**  Any surveillance measure should be *proportionate* to the threat it aims to address.  The intrusion on privacy must be justified by the potential benefits for public safety. Furthermore, it should be *necessary* - meaning there are no less intrusive means to achieve the same goal.\\n*   **Implementation:**\\n    *   **Threat Assessment:**  Before deploying surveillance, conduct a rigorous, data-driven threat assessment. Clearly define the specific problem (e.g., terrorist attacks, specific types of crime) and the potential effectiveness of the proposed surveillance in addressing it.  Avoid using vague or overly broad justifications.\\n    *   **Limited Scope:**  Limit the scope of surveillance to the specific areas and populations directly related to the identified threat. Avoid blanket surveillance of entire cities or populations.\\n    *   **Time Limits:**  Establish sunset clauses for surveillance programs, requiring periodic review and reauthorization based on updated threat assessments. This prevents permanent encroachment on privacy without ongoing justification.\\n\\n**2. Enhancing Transparency and Accountability:**\\n\\n*   **Principle:**  The public has a right to know how they are being surveilled, who has access to the data, and how the data is being used.  There should be clear mechanisms for holding those responsible accountable for misuse or abuse.\\n*   **Implementation:**\\n    *   **Public Disclosure:**  Publish clear and accessible information about the types of surveillance technologies being used, the data being collected, the purpose of the surveillance, and the legal basis for it.\\n    *   **Oversight Bodies:**  Establish independent oversight bodies, composed of legal experts, ethicists, and community representatives, to monitor surveillance activities, investigate complaints, and ensure compliance with privacy laws and regulations.\\n    *   **Auditing and Reporting:**  Conduct regular audits of surveillance systems to assess their effectiveness, identify potential biases, and ensure adherence to established protocols.  Publish audit reports to maintain transparency.\\n    *   **Whistleblower Protection:**  Protect individuals who report abuses or irregularities within surveillance programs.\\n\\n**3. Strengthening Legal and Regulatory Frameworks:**\\n\\n*   **Principle:**  Privacy is a fundamental right, and the law should provide strong protections against unwarranted intrusion.\\n*   **Implementation:**\\n    *   **Data Minimization:**  Limit the collection of data to what is strictly necessary for the stated purpose of the surveillance.  Delete or anonymize data that is no longer needed.\\n    *   **Purpose Limitation:**  Prohibit the use of surveillance data for purposes other than those for which it was originally collected, without explicit legal authorization and demonstrable public benefit.\\n    *   **Data Security:**  Implement robust data security measures to protect surveillance data from unauthorized access, use, or disclosure.  This includes encryption, access controls, and regular security audits.\\n    *   **Judicial Oversight:**  Require judicial warrants based on probable cause for certain types of surveillance, especially those that are highly intrusive or involve sensitive personal information.\\n    *   **Strong Remedies:**  Provide effective legal remedies for individuals who are harmed by unlawful surveillance, including the right to sue for damages and obtain injunctive relief.\\n\\n**4. Fostering Public Dialogue and Education:**\\n\\n*   **Principle:**  Informed citizens are essential for making sound decisions about the balance between privacy and security.\\n*   **Implementation:**\\n    *   **Public Forums:**  Organize public forums and workshops to discuss the implications of surveillance technologies, gather community input, and promote informed debate.\\n    *   **Educational Programs:**  Develop educational programs to raise awareness about privacy rights, surveillance technologies, and the potential risks and benefits of different approaches.\\n    *   **Support Research:**  Fund research on the social, ethical, and legal implications of surveillance technologies.\\n\\n**5. Integrating Ethical Frameworks:**\\n\\nThe ethical frameworks that would guide my decision-making include:\\n\\n*   **Utilitarianism:** This framework emphasizes maximizing overall well-being. Weighing the potential benefits of surveillance (e.g., preventing crime, saving lives) against the potential harms (e.g., privacy violations, chilling effects on free expression).  Requires careful assessment of probabilities and potential impacts.\\n*   **Deontology:** This framework focuses on duties and rights. Recognizes the inherent right to privacy and places limits on surveillance even if it might produce beneficial outcomes. This necessitates clear rules and procedures to protect privacy and prevent abuse.\\n*   **Virtue Ethics:** This framework emphasizes the character of the decision-makers. Promote virtues such as integrity, fairness, and prudence in the design and implementation of surveillance programs. Requires careful selection and training of personnel involved in surveillance.\\n*   **Social Contract Theory:**  This framework suggests that individuals implicitly agree to certain limitations on their freedom in exchange for the benefits of living in a safe and orderly society. This means ensuring that the terms of the \"social contract\" regarding surveillance are fair, transparent, and subject to democratic control.  Requires ongoing public dialogue and consent.\\n*   **Human Rights Framework:** This emphasizes the inherent dignity and rights of all individuals, including the right to privacy, freedom of expression, and freedom from discrimination. Any surveillance measure must be consistent with these fundamental rights.\\n\\n**Challenges and Considerations:**\\n\\n*   **Bias:** Surveillance technologies can perpetuate and amplify existing biases in society, leading to discriminatory outcomes.  It\\'s crucial to address bias in algorithms, data collection, and law enforcement practices.\\n*   **Chilling Effect:**  Widespread surveillance can have a chilling effect on free expression and dissent.  People may be less likely to speak out against the government or participate in political activities if they fear being monitored.\\n*   **Technological Advancements:**  Surveillance technologies are constantly evolving, making it difficult to keep up with the latest threats to privacy.  Requires ongoing monitoring of technological developments and adaptation of legal and regulatory frameworks.\\n*   **International Cooperation:**  Surveillance often crosses national borders, requiring international cooperation to protect privacy and prevent abuse.\\n\\n**In conclusion, balancing individual privacy and public safety in the age of advanced surveillance technologies requires a commitment to proportionality, transparency, accountability, and robust legal and ethical frameworks. It demands ongoing public dialogue, critical evaluation of technological advancements, and a willingness to adapt our approach as new challenges arise. The goal is to create a society that is both safe and free, where individuals can exercise their rights without fear of unwarranted surveillance.**\\n', \"Balancing individual privacy with public safety in the context of advanced surveillance technologies requires a careful and nuanced approach. Here's a framework to guide decision-making:\\n\\n**Principles:**\\n\\n1. **Proportionality**: Surveillance measures should be proportionate to the threat or risk they aim to mitigate.\\n2. **Necessity**: Surveillance should only be used when it is strictly necessary to achieve a legitimate public safety goal.\\n3. **Transparency**: The use of surveillance technologies should be transparent, with clear guidelines and oversight mechanisms in place.\\n4. **Accountability**: Those responsible for surveillance should be accountable for their actions and decisions.\\n5. **Data protection**: Personal data collected through surveillance should be protected from unauthorized access, misuse, or exploitation.\\n\\n**Ethical frameworks:**\\n\\n1. **Utilitarianism**: This framework weighs the overall benefits of surveillance against the potential harms to individual privacy. It considers the greatest good for the greatest number, while minimizing harm to individuals.\\n2. **Deontological ethics**: This framework emphasizes the importance of respecting individual rights and dignity, even if it means limiting the use of surveillance technologies.\\n3. **Virtue ethics**: This framework considers the character and motivations of those using surveillance technologies, emphasizing the importance of integrity, fairness, and respect for individual privacy.\\n\\n**Decision-making process:**\\n\\n1. **Risk assessment**: Conduct a thorough risk assessment to determine the likelihood and potential impact of a threat or risk.\\n2. **Alternative measures**: Explore alternative measures to surveillance, such as community engagement, education, or other forms of prevention.\\n3. **Surveillance technology evaluation**: Evaluate the effectiveness and potential risks of various surveillance technologies, considering factors like accuracy, reliability, and potential for abuse.\\n4. **Proportionate response**: Develop a proportionate response to the threat or risk, using the least intrusive and most effective surveillance technology available.\\n5. **Oversight and review**: Establish ongoing oversight and review mechanisms to ensure that surveillance is used in a way that respects individual privacy and is proportionate to the threat or risk.\\n6. **Public engagement and education**: Engage with the public and provide education on the use of surveillance technologies, their benefits, and their potential risks.\\n7. **Regular evaluation and adjustment**: Regularly evaluate and adjust the use of surveillance technologies to ensure that they remain necessary, proportionate, and effective.\\n\\n**Examples of balancing individual privacy with public safety:**\\n\\n1. **Intelligent transportation systems**: Using surveillance cameras and sensors to monitor traffic flow and optimize traffic management, while anonymizing individual data to protect privacy.\\n2. **Smart city initiatives**: Implementing surveillance technologies to enhance public safety, while ensuring that data is collected and used in a way that respects individual privacy and is transparent to the public.\\n3. **Counter-terrorism efforts**: Using surveillance technologies to monitor and prevent terrorist activities, while ensuring that individual rights and freedoms are respected and that surveillance is proportionate to the threat.\\n\\nBy following these principles, ethical frameworks, and decision-making processes, it is possible to balance the need for individual privacy with the demands of public safety in the context of advanced surveillance technologies.\", \"Balancing individual privacy with public safety in the context of advanced surveillance technologies is a complex issue that requires careful consideration of various ethical frameworks. Here's a comprehensive approach to address this challenge:\\n\\n1. **Robust Oversight Mechanism**: Establish an independent review board or committee that oversees the use of advanced surveillance technologies. This oversight body should be composed of experts from various fields, including law enforcement, civil liberties organizations, and technology companies.\\n2. **Transparency and Accountability**: Ensure transparency in the use of surveillance technologies, including their capabilities, limitations, and potential risks. Hold law enforcement agencies and private companies accountable for any misuse or abuse of these technologies.\\n3. **Proportionality Principle**: Use surveillance technologies only when necessary to achieve a legitimate public safety objective, and ensure that they are proportional to the threat being addressed. This means balancing the level of intrusion against the potential benefits of increasing public safety.\\n4. **Consent and Opt-Out Options**: Implement clear regulations for collecting and storing personal data, including opt-out options for individuals who wish\"]\n"
     ]
    }
   ],
   "source": [
    "# So where are we?\n",
    "\n",
    "print(competitors)\n",
    "print(answers)\n"
   ]
  },
  {
   "cell_type": "code",
   "execution_count": 15,
   "metadata": {},
   "outputs": [
    {
     "name": "stdout",
     "output_type": "stream",
     "text": [
      "Competitor: gpt-4o-mini\n",
      "\n",
      "Balancing individual privacy with public safety in the context of advanced surveillance technologies is a complex ethical challenge that requires a careful consideration of several factors. Here are some approaches that could guide decision-making in this area, along with relevant ethical frameworks:\n",
      "\n",
      "### 1. Ethical Frameworks\n",
      "\n",
      "**a. Utilitarianism:** This approach evaluates actions based on the outcomes they produce. The decision-making process would involve weighing the potential benefits of surveillance technologies for public safety (e.g., crime prevention, emergency response) against the risks and harms to individual privacy. A utilitarian framework would seek to maximize overall happiness and well-being.\n",
      "\n",
      "**b. Deontological Ethics:** This framework focuses on adherence to rules and duties. It emphasizes the intrinsic rights of individuals, including the right to privacy. When using surveillance technologies, a deontological approach would require rigorous adherence to legal standards and ethical norms that protect individual rights, regardless of the perceived benefits to public safety.\n",
      "\n",
      "**c. Virtue Ethics:** This framework emphasizes the character and intentions of the decision-makers. It encourages individuals and institutions to act in ways that reflect virtues such as respect, honesty, and justice. In this context, virtue ethics would promote a balanced approach that recognizes the importance of both individual privacy and community safety by fostering a culture of transparency and accountability.\n",
      "\n",
      "**d. Social Contract Theory:** This framework considers the implicit agreements between individuals and society regarding rights and responsibilities. It suggests that surveillance technologies should be implemented only with the consent of the governed and should be limited in scope. Ensuring that public safety measures do not infringe upon agreed-upon privacy rights would be paramount.\n",
      "\n",
      "### 2. Key Considerations for Balancing Privacy and Safety\n",
      "\n",
      "**a. Purpose Limitation:** Surveillance technologies should be deployed for specific, justified purposes. Measures should be in place to prevent the misuse of data collected, ensuring that it is used only for public safety objectives.\n",
      "\n",
      "**b. Transparency and Accountability:** There should be clear communication with the public regarding surveillance practices, including how data is collected, stored, and used. Mechanisms should be established for accountability, such as independent oversight bodies to monitor usage.\n",
      "\n",
      "**c. Data Minimization:** Data collection should be limited to what is necessary to achieve the relevant public safety objectives. Surveillance systems should be designed to minimize the amount of personal data collected.\n",
      "\n",
      "**d. Consent and Public Participation:** Engaging the public in discussions about surveillance practices is critical. Mechanisms should be established for individuals to give informed consent or opt-out of certain surveillance measures.\n",
      "\n",
      "**e. Regular Evaluation:** Implement regular assessments of the impact of surveillance technologies on both public safety and privacy. This includes analyzing how effective these measures are in achieving their intended goals and the extent of any unintended consequences.\n",
      "\n",
      "### 3. Conclusion\n",
      "\n",
      "Striking a balance between individual privacy and public safety in the context of advanced surveillance technologies requires a multi-faceted approach woven through ethical considerations. By applying ethical frameworks such as utilitarianism, deontological ethics, virtue ethics, and social contract theory, decision-makers can navigate this complex landscape, recognizing the importance of protecting individual rights while addressing legitimate safety concerns. Continuous dialogue, scrutiny, and adaptive policies tailored to the evolving nature of technology and societal values will be crucial for achieving this balance.\n",
      "Competitor: gemini-2.0-flash\n",
      "\n",
      "Balancing individual privacy with public safety in the age of advanced surveillance technologies is a complex and critical challenge. There's no easy answer, and it requires a multi-faceted approach grounded in strong ethical principles. Here's how I would approach it:\n",
      "\n",
      "**1. Prioritizing Proportionality and Necessity:**\n",
      "\n",
      "*   **Principle:**  Any surveillance measure should be *proportionate* to the threat it aims to address.  The intrusion on privacy must be justified by the potential benefits for public safety. Furthermore, it should be *necessary* - meaning there are no less intrusive means to achieve the same goal.\n",
      "*   **Implementation:**\n",
      "    *   **Threat Assessment:**  Before deploying surveillance, conduct a rigorous, data-driven threat assessment. Clearly define the specific problem (e.g., terrorist attacks, specific types of crime) and the potential effectiveness of the proposed surveillance in addressing it.  Avoid using vague or overly broad justifications.\n",
      "    *   **Limited Scope:**  Limit the scope of surveillance to the specific areas and populations directly related to the identified threat. Avoid blanket surveillance of entire cities or populations.\n",
      "    *   **Time Limits:**  Establish sunset clauses for surveillance programs, requiring periodic review and reauthorization based on updated threat assessments. This prevents permanent encroachment on privacy without ongoing justification.\n",
      "\n",
      "**2. Enhancing Transparency and Accountability:**\n",
      "\n",
      "*   **Principle:**  The public has a right to know how they are being surveilled, who has access to the data, and how the data is being used.  There should be clear mechanisms for holding those responsible accountable for misuse or abuse.\n",
      "*   **Implementation:**\n",
      "    *   **Public Disclosure:**  Publish clear and accessible information about the types of surveillance technologies being used, the data being collected, the purpose of the surveillance, and the legal basis for it.\n",
      "    *   **Oversight Bodies:**  Establish independent oversight bodies, composed of legal experts, ethicists, and community representatives, to monitor surveillance activities, investigate complaints, and ensure compliance with privacy laws and regulations.\n",
      "    *   **Auditing and Reporting:**  Conduct regular audits of surveillance systems to assess their effectiveness, identify potential biases, and ensure adherence to established protocols.  Publish audit reports to maintain transparency.\n",
      "    *   **Whistleblower Protection:**  Protect individuals who report abuses or irregularities within surveillance programs.\n",
      "\n",
      "**3. Strengthening Legal and Regulatory Frameworks:**\n",
      "\n",
      "*   **Principle:**  Privacy is a fundamental right, and the law should provide strong protections against unwarranted intrusion.\n",
      "*   **Implementation:**\n",
      "    *   **Data Minimization:**  Limit the collection of data to what is strictly necessary for the stated purpose of the surveillance.  Delete or anonymize data that is no longer needed.\n",
      "    *   **Purpose Limitation:**  Prohibit the use of surveillance data for purposes other than those for which it was originally collected, without explicit legal authorization and demonstrable public benefit.\n",
      "    *   **Data Security:**  Implement robust data security measures to protect surveillance data from unauthorized access, use, or disclosure.  This includes encryption, access controls, and regular security audits.\n",
      "    *   **Judicial Oversight:**  Require judicial warrants based on probable cause for certain types of surveillance, especially those that are highly intrusive or involve sensitive personal information.\n",
      "    *   **Strong Remedies:**  Provide effective legal remedies for individuals who are harmed by unlawful surveillance, including the right to sue for damages and obtain injunctive relief.\n",
      "\n",
      "**4. Fostering Public Dialogue and Education:**\n",
      "\n",
      "*   **Principle:**  Informed citizens are essential for making sound decisions about the balance between privacy and security.\n",
      "*   **Implementation:**\n",
      "    *   **Public Forums:**  Organize public forums and workshops to discuss the implications of surveillance technologies, gather community input, and promote informed debate.\n",
      "    *   **Educational Programs:**  Develop educational programs to raise awareness about privacy rights, surveillance technologies, and the potential risks and benefits of different approaches.\n",
      "    *   **Support Research:**  Fund research on the social, ethical, and legal implications of surveillance technologies.\n",
      "\n",
      "**5. Integrating Ethical Frameworks:**\n",
      "\n",
      "The ethical frameworks that would guide my decision-making include:\n",
      "\n",
      "*   **Utilitarianism:** This framework emphasizes maximizing overall well-being. Weighing the potential benefits of surveillance (e.g., preventing crime, saving lives) against the potential harms (e.g., privacy violations, chilling effects on free expression).  Requires careful assessment of probabilities and potential impacts.\n",
      "*   **Deontology:** This framework focuses on duties and rights. Recognizes the inherent right to privacy and places limits on surveillance even if it might produce beneficial outcomes. This necessitates clear rules and procedures to protect privacy and prevent abuse.\n",
      "*   **Virtue Ethics:** This framework emphasizes the character of the decision-makers. Promote virtues such as integrity, fairness, and prudence in the design and implementation of surveillance programs. Requires careful selection and training of personnel involved in surveillance.\n",
      "*   **Social Contract Theory:**  This framework suggests that individuals implicitly agree to certain limitations on their freedom in exchange for the benefits of living in a safe and orderly society. This means ensuring that the terms of the \"social contract\" regarding surveillance are fair, transparent, and subject to democratic control.  Requires ongoing public dialogue and consent.\n",
      "*   **Human Rights Framework:** This emphasizes the inherent dignity and rights of all individuals, including the right to privacy, freedom of expression, and freedom from discrimination. Any surveillance measure must be consistent with these fundamental rights.\n",
      "\n",
      "**Challenges and Considerations:**\n",
      "\n",
      "*   **Bias:** Surveillance technologies can perpetuate and amplify existing biases in society, leading to discriminatory outcomes.  It's crucial to address bias in algorithms, data collection, and law enforcement practices.\n",
      "*   **Chilling Effect:**  Widespread surveillance can have a chilling effect on free expression and dissent.  People may be less likely to speak out against the government or participate in political activities if they fear being monitored.\n",
      "*   **Technological Advancements:**  Surveillance technologies are constantly evolving, making it difficult to keep up with the latest threats to privacy.  Requires ongoing monitoring of technological developments and adaptation of legal and regulatory frameworks.\n",
      "*   **International Cooperation:**  Surveillance often crosses national borders, requiring international cooperation to protect privacy and prevent abuse.\n",
      "\n",
      "**In conclusion, balancing individual privacy and public safety in the age of advanced surveillance technologies requires a commitment to proportionality, transparency, accountability, and robust legal and ethical frameworks. It demands ongoing public dialogue, critical evaluation of technological advancements, and a willingness to adapt our approach as new challenges arise. The goal is to create a society that is both safe and free, where individuals can exercise their rights without fear of unwarranted surveillance.**\n",
      "\n",
      "Competitor: llama-3.3-70b-versatile\n",
      "\n",
      "Balancing individual privacy with public safety in the context of advanced surveillance technologies requires a careful and nuanced approach. Here's a framework to guide decision-making:\n",
      "\n",
      "**Principles:**\n",
      "\n",
      "1. **Proportionality**: Surveillance measures should be proportionate to the threat or risk they aim to mitigate.\n",
      "2. **Necessity**: Surveillance should only be used when it is strictly necessary to achieve a legitimate public safety goal.\n",
      "3. **Transparency**: The use of surveillance technologies should be transparent, with clear guidelines and oversight mechanisms in place.\n",
      "4. **Accountability**: Those responsible for surveillance should be accountable for their actions and decisions.\n",
      "5. **Data protection**: Personal data collected through surveillance should be protected from unauthorized access, misuse, or exploitation.\n",
      "\n",
      "**Ethical frameworks:**\n",
      "\n",
      "1. **Utilitarianism**: This framework weighs the overall benefits of surveillance against the potential harms to individual privacy. It considers the greatest good for the greatest number, while minimizing harm to individuals.\n",
      "2. **Deontological ethics**: This framework emphasizes the importance of respecting individual rights and dignity, even if it means limiting the use of surveillance technologies.\n",
      "3. **Virtue ethics**: This framework considers the character and motivations of those using surveillance technologies, emphasizing the importance of integrity, fairness, and respect for individual privacy.\n",
      "\n",
      "**Decision-making process:**\n",
      "\n",
      "1. **Risk assessment**: Conduct a thorough risk assessment to determine the likelihood and potential impact of a threat or risk.\n",
      "2. **Alternative measures**: Explore alternative measures to surveillance, such as community engagement, education, or other forms of prevention.\n",
      "3. **Surveillance technology evaluation**: Evaluate the effectiveness and potential risks of various surveillance technologies, considering factors like accuracy, reliability, and potential for abuse.\n",
      "4. **Proportionate response**: Develop a proportionate response to the threat or risk, using the least intrusive and most effective surveillance technology available.\n",
      "5. **Oversight and review**: Establish ongoing oversight and review mechanisms to ensure that surveillance is used in a way that respects individual privacy and is proportionate to the threat or risk.\n",
      "6. **Public engagement and education**: Engage with the public and provide education on the use of surveillance technologies, their benefits, and their potential risks.\n",
      "7. **Regular evaluation and adjustment**: Regularly evaluate and adjust the use of surveillance technologies to ensure that they remain necessary, proportionate, and effective.\n",
      "\n",
      "**Examples of balancing individual privacy with public safety:**\n",
      "\n",
      "1. **Intelligent transportation systems**: Using surveillance cameras and sensors to monitor traffic flow and optimize traffic management, while anonymizing individual data to protect privacy.\n",
      "2. **Smart city initiatives**: Implementing surveillance technologies to enhance public safety, while ensuring that data is collected and used in a way that respects individual privacy and is transparent to the public.\n",
      "3. **Counter-terrorism efforts**: Using surveillance technologies to monitor and prevent terrorist activities, while ensuring that individual rights and freedoms are respected and that surveillance is proportionate to the threat.\n",
      "\n",
      "By following these principles, ethical frameworks, and decision-making processes, it is possible to balance the need for individual privacy with the demands of public safety in the context of advanced surveillance technologies.\n",
      "Competitor: llama3.2\n",
      "\n",
      "Balancing individual privacy with public safety in the context of advanced surveillance technologies is a complex issue that requires careful consideration of various ethical frameworks. Here's a comprehensive approach to address this challenge:\n",
      "\n",
      "1. **Robust Oversight Mechanism**: Establish an independent review board or committee that oversees the use of advanced surveillance technologies. This oversight body should be composed of experts from various fields, including law enforcement, civil liberties organizations, and technology companies.\n",
      "2. **Transparency and Accountability**: Ensure transparency in the use of surveillance technologies, including their capabilities, limitations, and potential risks. Hold law enforcement agencies and private companies accountable for any misuse or abuse of these technologies.\n",
      "3. **Proportionality Principle**: Use surveillance technologies only when necessary to achieve a legitimate public safety objective, and ensure that they are proportional to the threat being addressed. This means balancing the level of intrusion against the potential benefits of increasing public safety.\n",
      "4. **Consent and Opt-Out Options**: Implement clear regulations for collecting and storing personal data, including opt-out options for individuals who wish\n"
     ]
    }
   ],
   "source": [
    "# It's nice to know how to use \"zip\"\n",
    "for competitor, answer in zip(competitors, answers):\n",
    "    print(f\"Competitor: {competitor}\\n\\n{answer}\")"
   ]
  },
  {
   "cell_type": "code",
   "execution_count": 16,
   "metadata": {},
   "outputs": [],
   "source": [
    "# Let's bring this together - note the use of \"enumerate\"\n",
    "\n",
    "together = \"\"\n",
    "for index, answer in enumerate(answers):\n",
    "    together += f\"# Response from competitor {index+1}\\n\\n\"\n",
    "    together += answer + \"\\n\\n\""
   ]
  },
  {
   "cell_type": "code",
   "execution_count": 17,
   "metadata": {},
   "outputs": [
    {
     "name": "stdout",
     "output_type": "stream",
     "text": [
      "# Response from competitor 1\n",
      "\n",
      "Balancing individual privacy with public safety in the context of advanced surveillance technologies is a complex ethical challenge that requires a careful consideration of several factors. Here are some approaches that could guide decision-making in this area, along with relevant ethical frameworks:\n",
      "\n",
      "### 1. Ethical Frameworks\n",
      "\n",
      "**a. Utilitarianism:** This approach evaluates actions based on the outcomes they produce. The decision-making process would involve weighing the potential benefits of surveillance technologies for public safety (e.g., crime prevention, emergency response) against the risks and harms to individual privacy. A utilitarian framework would seek to maximize overall happiness and well-being.\n",
      "\n",
      "**b. Deontological Ethics:** This framework focuses on adherence to rules and duties. It emphasizes the intrinsic rights of individuals, including the right to privacy. When using surveillance technologies, a deontological approach would require rigorous adherence to legal standards and ethical norms that protect individual rights, regardless of the perceived benefits to public safety.\n",
      "\n",
      "**c. Virtue Ethics:** This framework emphasizes the character and intentions of the decision-makers. It encourages individuals and institutions to act in ways that reflect virtues such as respect, honesty, and justice. In this context, virtue ethics would promote a balanced approach that recognizes the importance of both individual privacy and community safety by fostering a culture of transparency and accountability.\n",
      "\n",
      "**d. Social Contract Theory:** This framework considers the implicit agreements between individuals and society regarding rights and responsibilities. It suggests that surveillance technologies should be implemented only with the consent of the governed and should be limited in scope. Ensuring that public safety measures do not infringe upon agreed-upon privacy rights would be paramount.\n",
      "\n",
      "### 2. Key Considerations for Balancing Privacy and Safety\n",
      "\n",
      "**a. Purpose Limitation:** Surveillance technologies should be deployed for specific, justified purposes. Measures should be in place to prevent the misuse of data collected, ensuring that it is used only for public safety objectives.\n",
      "\n",
      "**b. Transparency and Accountability:** There should be clear communication with the public regarding surveillance practices, including how data is collected, stored, and used. Mechanisms should be established for accountability, such as independent oversight bodies to monitor usage.\n",
      "\n",
      "**c. Data Minimization:** Data collection should be limited to what is necessary to achieve the relevant public safety objectives. Surveillance systems should be designed to minimize the amount of personal data collected.\n",
      "\n",
      "**d. Consent and Public Participation:** Engaging the public in discussions about surveillance practices is critical. Mechanisms should be established for individuals to give informed consent or opt-out of certain surveillance measures.\n",
      "\n",
      "**e. Regular Evaluation:** Implement regular assessments of the impact of surveillance technologies on both public safety and privacy. This includes analyzing how effective these measures are in achieving their intended goals and the extent of any unintended consequences.\n",
      "\n",
      "### 3. Conclusion\n",
      "\n",
      "Striking a balance between individual privacy and public safety in the context of advanced surveillance technologies requires a multi-faceted approach woven through ethical considerations. By applying ethical frameworks such as utilitarianism, deontological ethics, virtue ethics, and social contract theory, decision-makers can navigate this complex landscape, recognizing the importance of protecting individual rights while addressing legitimate safety concerns. Continuous dialogue, scrutiny, and adaptive policies tailored to the evolving nature of technology and societal values will be crucial for achieving this balance.\n",
      "\n",
      "# Response from competitor 2\n",
      "\n",
      "Balancing individual privacy with public safety in the age of advanced surveillance technologies is a complex and critical challenge. There's no easy answer, and it requires a multi-faceted approach grounded in strong ethical principles. Here's how I would approach it:\n",
      "\n",
      "**1. Prioritizing Proportionality and Necessity:**\n",
      "\n",
      "*   **Principle:**  Any surveillance measure should be *proportionate* to the threat it aims to address.  The intrusion on privacy must be justified by the potential benefits for public safety. Furthermore, it should be *necessary* - meaning there are no less intrusive means to achieve the same goal.\n",
      "*   **Implementation:**\n",
      "    *   **Threat Assessment:**  Before deploying surveillance, conduct a rigorous, data-driven threat assessment. Clearly define the specific problem (e.g., terrorist attacks, specific types of crime) and the potential effectiveness of the proposed surveillance in addressing it.  Avoid using vague or overly broad justifications.\n",
      "    *   **Limited Scope:**  Limit the scope of surveillance to the specific areas and populations directly related to the identified threat. Avoid blanket surveillance of entire cities or populations.\n",
      "    *   **Time Limits:**  Establish sunset clauses for surveillance programs, requiring periodic review and reauthorization based on updated threat assessments. This prevents permanent encroachment on privacy without ongoing justification.\n",
      "\n",
      "**2. Enhancing Transparency and Accountability:**\n",
      "\n",
      "*   **Principle:**  The public has a right to know how they are being surveilled, who has access to the data, and how the data is being used.  There should be clear mechanisms for holding those responsible accountable for misuse or abuse.\n",
      "*   **Implementation:**\n",
      "    *   **Public Disclosure:**  Publish clear and accessible information about the types of surveillance technologies being used, the data being collected, the purpose of the surveillance, and the legal basis for it.\n",
      "    *   **Oversight Bodies:**  Establish independent oversight bodies, composed of legal experts, ethicists, and community representatives, to monitor surveillance activities, investigate complaints, and ensure compliance with privacy laws and regulations.\n",
      "    *   **Auditing and Reporting:**  Conduct regular audits of surveillance systems to assess their effectiveness, identify potential biases, and ensure adherence to established protocols.  Publish audit reports to maintain transparency.\n",
      "    *   **Whistleblower Protection:**  Protect individuals who report abuses or irregularities within surveillance programs.\n",
      "\n",
      "**3. Strengthening Legal and Regulatory Frameworks:**\n",
      "\n",
      "*   **Principle:**  Privacy is a fundamental right, and the law should provide strong protections against unwarranted intrusion.\n",
      "*   **Implementation:**\n",
      "    *   **Data Minimization:**  Limit the collection of data to what is strictly necessary for the stated purpose of the surveillance.  Delete or anonymize data that is no longer needed.\n",
      "    *   **Purpose Limitation:**  Prohibit the use of surveillance data for purposes other than those for which it was originally collected, without explicit legal authorization and demonstrable public benefit.\n",
      "    *   **Data Security:**  Implement robust data security measures to protect surveillance data from unauthorized access, use, or disclosure.  This includes encryption, access controls, and regular security audits.\n",
      "    *   **Judicial Oversight:**  Require judicial warrants based on probable cause for certain types of surveillance, especially those that are highly intrusive or involve sensitive personal information.\n",
      "    *   **Strong Remedies:**  Provide effective legal remedies for individuals who are harmed by unlawful surveillance, including the right to sue for damages and obtain injunctive relief.\n",
      "\n",
      "**4. Fostering Public Dialogue and Education:**\n",
      "\n",
      "*   **Principle:**  Informed citizens are essential for making sound decisions about the balance between privacy and security.\n",
      "*   **Implementation:**\n",
      "    *   **Public Forums:**  Organize public forums and workshops to discuss the implications of surveillance technologies, gather community input, and promote informed debate.\n",
      "    *   **Educational Programs:**  Develop educational programs to raise awareness about privacy rights, surveillance technologies, and the potential risks and benefits of different approaches.\n",
      "    *   **Support Research:**  Fund research on the social, ethical, and legal implications of surveillance technologies.\n",
      "\n",
      "**5. Integrating Ethical Frameworks:**\n",
      "\n",
      "The ethical frameworks that would guide my decision-making include:\n",
      "\n",
      "*   **Utilitarianism:** This framework emphasizes maximizing overall well-being. Weighing the potential benefits of surveillance (e.g., preventing crime, saving lives) against the potential harms (e.g., privacy violations, chilling effects on free expression).  Requires careful assessment of probabilities and potential impacts.\n",
      "*   **Deontology:** This framework focuses on duties and rights. Recognizes the inherent right to privacy and places limits on surveillance even if it might produce beneficial outcomes. This necessitates clear rules and procedures to protect privacy and prevent abuse.\n",
      "*   **Virtue Ethics:** This framework emphasizes the character of the decision-makers. Promote virtues such as integrity, fairness, and prudence in the design and implementation of surveillance programs. Requires careful selection and training of personnel involved in surveillance.\n",
      "*   **Social Contract Theory:**  This framework suggests that individuals implicitly agree to certain limitations on their freedom in exchange for the benefits of living in a safe and orderly society. This means ensuring that the terms of the \"social contract\" regarding surveillance are fair, transparent, and subject to democratic control.  Requires ongoing public dialogue and consent.\n",
      "*   **Human Rights Framework:** This emphasizes the inherent dignity and rights of all individuals, including the right to privacy, freedom of expression, and freedom from discrimination. Any surveillance measure must be consistent with these fundamental rights.\n",
      "\n",
      "**Challenges and Considerations:**\n",
      "\n",
      "*   **Bias:** Surveillance technologies can perpetuate and amplify existing biases in society, leading to discriminatory outcomes.  It's crucial to address bias in algorithms, data collection, and law enforcement practices.\n",
      "*   **Chilling Effect:**  Widespread surveillance can have a chilling effect on free expression and dissent.  People may be less likely to speak out against the government or participate in political activities if they fear being monitored.\n",
      "*   **Technological Advancements:**  Surveillance technologies are constantly evolving, making it difficult to keep up with the latest threats to privacy.  Requires ongoing monitoring of technological developments and adaptation of legal and regulatory frameworks.\n",
      "*   **International Cooperation:**  Surveillance often crosses national borders, requiring international cooperation to protect privacy and prevent abuse.\n",
      "\n",
      "**In conclusion, balancing individual privacy and public safety in the age of advanced surveillance technologies requires a commitment to proportionality, transparency, accountability, and robust legal and ethical frameworks. It demands ongoing public dialogue, critical evaluation of technological advancements, and a willingness to adapt our approach as new challenges arise. The goal is to create a society that is both safe and free, where individuals can exercise their rights without fear of unwarranted surveillance.**\n",
      "\n",
      "\n",
      "# Response from competitor 3\n",
      "\n",
      "Balancing individual privacy with public safety in the context of advanced surveillance technologies requires a careful and nuanced approach. Here's a framework to guide decision-making:\n",
      "\n",
      "**Principles:**\n",
      "\n",
      "1. **Proportionality**: Surveillance measures should be proportionate to the threat or risk they aim to mitigate.\n",
      "2. **Necessity**: Surveillance should only be used when it is strictly necessary to achieve a legitimate public safety goal.\n",
      "3. **Transparency**: The use of surveillance technologies should be transparent, with clear guidelines and oversight mechanisms in place.\n",
      "4. **Accountability**: Those responsible for surveillance should be accountable for their actions and decisions.\n",
      "5. **Data protection**: Personal data collected through surveillance should be protected from unauthorized access, misuse, or exploitation.\n",
      "\n",
      "**Ethical frameworks:**\n",
      "\n",
      "1. **Utilitarianism**: This framework weighs the overall benefits of surveillance against the potential harms to individual privacy. It considers the greatest good for the greatest number, while minimizing harm to individuals.\n",
      "2. **Deontological ethics**: This framework emphasizes the importance of respecting individual rights and dignity, even if it means limiting the use of surveillance technologies.\n",
      "3. **Virtue ethics**: This framework considers the character and motivations of those using surveillance technologies, emphasizing the importance of integrity, fairness, and respect for individual privacy.\n",
      "\n",
      "**Decision-making process:**\n",
      "\n",
      "1. **Risk assessment**: Conduct a thorough risk assessment to determine the likelihood and potential impact of a threat or risk.\n",
      "2. **Alternative measures**: Explore alternative measures to surveillance, such as community engagement, education, or other forms of prevention.\n",
      "3. **Surveillance technology evaluation**: Evaluate the effectiveness and potential risks of various surveillance technologies, considering factors like accuracy, reliability, and potential for abuse.\n",
      "4. **Proportionate response**: Develop a proportionate response to the threat or risk, using the least intrusive and most effective surveillance technology available.\n",
      "5. **Oversight and review**: Establish ongoing oversight and review mechanisms to ensure that surveillance is used in a way that respects individual privacy and is proportionate to the threat or risk.\n",
      "6. **Public engagement and education**: Engage with the public and provide education on the use of surveillance technologies, their benefits, and their potential risks.\n",
      "7. **Regular evaluation and adjustment**: Regularly evaluate and adjust the use of surveillance technologies to ensure that they remain necessary, proportionate, and effective.\n",
      "\n",
      "**Examples of balancing individual privacy with public safety:**\n",
      "\n",
      "1. **Intelligent transportation systems**: Using surveillance cameras and sensors to monitor traffic flow and optimize traffic management, while anonymizing individual data to protect privacy.\n",
      "2. **Smart city initiatives**: Implementing surveillance technologies to enhance public safety, while ensuring that data is collected and used in a way that respects individual privacy and is transparent to the public.\n",
      "3. **Counter-terrorism efforts**: Using surveillance technologies to monitor and prevent terrorist activities, while ensuring that individual rights and freedoms are respected and that surveillance is proportionate to the threat.\n",
      "\n",
      "By following these principles, ethical frameworks, and decision-making processes, it is possible to balance the need for individual privacy with the demands of public safety in the context of advanced surveillance technologies.\n",
      "\n",
      "# Response from competitor 4\n",
      "\n",
      "Balancing individual privacy with public safety in the context of advanced surveillance technologies is a complex issue that requires careful consideration of various ethical frameworks. Here's a comprehensive approach to address this challenge:\n",
      "\n",
      "1. **Robust Oversight Mechanism**: Establish an independent review board or committee that oversees the use of advanced surveillance technologies. This oversight body should be composed of experts from various fields, including law enforcement, civil liberties organizations, and technology companies.\n",
      "2. **Transparency and Accountability**: Ensure transparency in the use of surveillance technologies, including their capabilities, limitations, and potential risks. Hold law enforcement agencies and private companies accountable for any misuse or abuse of these technologies.\n",
      "3. **Proportionality Principle**: Use surveillance technologies only when necessary to achieve a legitimate public safety objective, and ensure that they are proportional to the threat being addressed. This means balancing the level of intrusion against the potential benefits of increasing public safety.\n",
      "4. **Consent and Opt-Out Options**: Implement clear regulations for collecting and storing personal data, including opt-out options for individuals who wish\n",
      "\n",
      "\n"
     ]
    }
   ],
   "source": [
    "print(together)"
   ]
  },
  {
   "cell_type": "code",
   "execution_count": 18,
   "metadata": {},
   "outputs": [],
   "source": [
    "judge = f\"\"\"You are judging a competition between {len(competitors)} competitors.\n",
    "Each model has been given this question:\n",
    "\n",
    "{question}\n",
    "\n",
    "Your job is to evaluate each response for clarity and strength of argument, and rank them in order of best to worst.\n",
    "Respond with JSON, and only JSON, with the following format:\n",
    "{{\"results\": [\"best competitor number\", \"second best competitor number\", \"third best competitor number\", ...]}}\n",
    "\n",
    "Here are the responses from each competitor:\n",
    "\n",
    "{together}\n",
    "\n",
    "Now respond with the JSON with the ranked order of the competitors, nothing else. Do not include markdown formatting or code blocks.\"\"\"\n"
   ]
  },
  {
   "cell_type": "code",
   "execution_count": 19,
   "metadata": {},
   "outputs": [
    {
     "name": "stdout",
     "output_type": "stream",
     "text": [
      "You are judging a competition between 4 competitors.\n",
      "Each model has been given this question:\n",
      "\n",
      "How would you balance the need for individual privacy with the demands of public safety in the context of advanced surveillance technologies, and what ethical frameworks would guide your decision-making process?\n",
      "\n",
      "Your job is to evaluate each response for clarity and strength of argument, and rank them in order of best to worst.\n",
      "Respond with JSON, and only JSON, with the following format:\n",
      "{\"results\": [\"best competitor number\", \"second best competitor number\", \"third best competitor number\", ...]}\n",
      "\n",
      "Here are the responses from each competitor:\n",
      "\n",
      "# Response from competitor 1\n",
      "\n",
      "Balancing individual privacy with public safety in the context of advanced surveillance technologies is a complex ethical challenge that requires a careful consideration of several factors. Here are some approaches that could guide decision-making in this area, along with relevant ethical frameworks:\n",
      "\n",
      "### 1. Ethical Frameworks\n",
      "\n",
      "**a. Utilitarianism:** This approach evaluates actions based on the outcomes they produce. The decision-making process would involve weighing the potential benefits of surveillance technologies for public safety (e.g., crime prevention, emergency response) against the risks and harms to individual privacy. A utilitarian framework would seek to maximize overall happiness and well-being.\n",
      "\n",
      "**b. Deontological Ethics:** This framework focuses on adherence to rules and duties. It emphasizes the intrinsic rights of individuals, including the right to privacy. When using surveillance technologies, a deontological approach would require rigorous adherence to legal standards and ethical norms that protect individual rights, regardless of the perceived benefits to public safety.\n",
      "\n",
      "**c. Virtue Ethics:** This framework emphasizes the character and intentions of the decision-makers. It encourages individuals and institutions to act in ways that reflect virtues such as respect, honesty, and justice. In this context, virtue ethics would promote a balanced approach that recognizes the importance of both individual privacy and community safety by fostering a culture of transparency and accountability.\n",
      "\n",
      "**d. Social Contract Theory:** This framework considers the implicit agreements between individuals and society regarding rights and responsibilities. It suggests that surveillance technologies should be implemented only with the consent of the governed and should be limited in scope. Ensuring that public safety measures do not infringe upon agreed-upon privacy rights would be paramount.\n",
      "\n",
      "### 2. Key Considerations for Balancing Privacy and Safety\n",
      "\n",
      "**a. Purpose Limitation:** Surveillance technologies should be deployed for specific, justified purposes. Measures should be in place to prevent the misuse of data collected, ensuring that it is used only for public safety objectives.\n",
      "\n",
      "**b. Transparency and Accountability:** There should be clear communication with the public regarding surveillance practices, including how data is collected, stored, and used. Mechanisms should be established for accountability, such as independent oversight bodies to monitor usage.\n",
      "\n",
      "**c. Data Minimization:** Data collection should be limited to what is necessary to achieve the relevant public safety objectives. Surveillance systems should be designed to minimize the amount of personal data collected.\n",
      "\n",
      "**d. Consent and Public Participation:** Engaging the public in discussions about surveillance practices is critical. Mechanisms should be established for individuals to give informed consent or opt-out of certain surveillance measures.\n",
      "\n",
      "**e. Regular Evaluation:** Implement regular assessments of the impact of surveillance technologies on both public safety and privacy. This includes analyzing how effective these measures are in achieving their intended goals and the extent of any unintended consequences.\n",
      "\n",
      "### 3. Conclusion\n",
      "\n",
      "Striking a balance between individual privacy and public safety in the context of advanced surveillance technologies requires a multi-faceted approach woven through ethical considerations. By applying ethical frameworks such as utilitarianism, deontological ethics, virtue ethics, and social contract theory, decision-makers can navigate this complex landscape, recognizing the importance of protecting individual rights while addressing legitimate safety concerns. Continuous dialogue, scrutiny, and adaptive policies tailored to the evolving nature of technology and societal values will be crucial for achieving this balance.\n",
      "\n",
      "# Response from competitor 2\n",
      "\n",
      "Balancing individual privacy with public safety in the age of advanced surveillance technologies is a complex and critical challenge. There's no easy answer, and it requires a multi-faceted approach grounded in strong ethical principles. Here's how I would approach it:\n",
      "\n",
      "**1. Prioritizing Proportionality and Necessity:**\n",
      "\n",
      "*   **Principle:**  Any surveillance measure should be *proportionate* to the threat it aims to address.  The intrusion on privacy must be justified by the potential benefits for public safety. Furthermore, it should be *necessary* - meaning there are no less intrusive means to achieve the same goal.\n",
      "*   **Implementation:**\n",
      "    *   **Threat Assessment:**  Before deploying surveillance, conduct a rigorous, data-driven threat assessment. Clearly define the specific problem (e.g., terrorist attacks, specific types of crime) and the potential effectiveness of the proposed surveillance in addressing it.  Avoid using vague or overly broad justifications.\n",
      "    *   **Limited Scope:**  Limit the scope of surveillance to the specific areas and populations directly related to the identified threat. Avoid blanket surveillance of entire cities or populations.\n",
      "    *   **Time Limits:**  Establish sunset clauses for surveillance programs, requiring periodic review and reauthorization based on updated threat assessments. This prevents permanent encroachment on privacy without ongoing justification.\n",
      "\n",
      "**2. Enhancing Transparency and Accountability:**\n",
      "\n",
      "*   **Principle:**  The public has a right to know how they are being surveilled, who has access to the data, and how the data is being used.  There should be clear mechanisms for holding those responsible accountable for misuse or abuse.\n",
      "*   **Implementation:**\n",
      "    *   **Public Disclosure:**  Publish clear and accessible information about the types of surveillance technologies being used, the data being collected, the purpose of the surveillance, and the legal basis for it.\n",
      "    *   **Oversight Bodies:**  Establish independent oversight bodies, composed of legal experts, ethicists, and community representatives, to monitor surveillance activities, investigate complaints, and ensure compliance with privacy laws and regulations.\n",
      "    *   **Auditing and Reporting:**  Conduct regular audits of surveillance systems to assess their effectiveness, identify potential biases, and ensure adherence to established protocols.  Publish audit reports to maintain transparency.\n",
      "    *   **Whistleblower Protection:**  Protect individuals who report abuses or irregularities within surveillance programs.\n",
      "\n",
      "**3. Strengthening Legal and Regulatory Frameworks:**\n",
      "\n",
      "*   **Principle:**  Privacy is a fundamental right, and the law should provide strong protections against unwarranted intrusion.\n",
      "*   **Implementation:**\n",
      "    *   **Data Minimization:**  Limit the collection of data to what is strictly necessary for the stated purpose of the surveillance.  Delete or anonymize data that is no longer needed.\n",
      "    *   **Purpose Limitation:**  Prohibit the use of surveillance data for purposes other than those for which it was originally collected, without explicit legal authorization and demonstrable public benefit.\n",
      "    *   **Data Security:**  Implement robust data security measures to protect surveillance data from unauthorized access, use, or disclosure.  This includes encryption, access controls, and regular security audits.\n",
      "    *   **Judicial Oversight:**  Require judicial warrants based on probable cause for certain types of surveillance, especially those that are highly intrusive or involve sensitive personal information.\n",
      "    *   **Strong Remedies:**  Provide effective legal remedies for individuals who are harmed by unlawful surveillance, including the right to sue for damages and obtain injunctive relief.\n",
      "\n",
      "**4. Fostering Public Dialogue and Education:**\n",
      "\n",
      "*   **Principle:**  Informed citizens are essential for making sound decisions about the balance between privacy and security.\n",
      "*   **Implementation:**\n",
      "    *   **Public Forums:**  Organize public forums and workshops to discuss the implications of surveillance technologies, gather community input, and promote informed debate.\n",
      "    *   **Educational Programs:**  Develop educational programs to raise awareness about privacy rights, surveillance technologies, and the potential risks and benefits of different approaches.\n",
      "    *   **Support Research:**  Fund research on the social, ethical, and legal implications of surveillance technologies.\n",
      "\n",
      "**5. Integrating Ethical Frameworks:**\n",
      "\n",
      "The ethical frameworks that would guide my decision-making include:\n",
      "\n",
      "*   **Utilitarianism:** This framework emphasizes maximizing overall well-being. Weighing the potential benefits of surveillance (e.g., preventing crime, saving lives) against the potential harms (e.g., privacy violations, chilling effects on free expression).  Requires careful assessment of probabilities and potential impacts.\n",
      "*   **Deontology:** This framework focuses on duties and rights. Recognizes the inherent right to privacy and places limits on surveillance even if it might produce beneficial outcomes. This necessitates clear rules and procedures to protect privacy and prevent abuse.\n",
      "*   **Virtue Ethics:** This framework emphasizes the character of the decision-makers. Promote virtues such as integrity, fairness, and prudence in the design and implementation of surveillance programs. Requires careful selection and training of personnel involved in surveillance.\n",
      "*   **Social Contract Theory:**  This framework suggests that individuals implicitly agree to certain limitations on their freedom in exchange for the benefits of living in a safe and orderly society. This means ensuring that the terms of the \"social contract\" regarding surveillance are fair, transparent, and subject to democratic control.  Requires ongoing public dialogue and consent.\n",
      "*   **Human Rights Framework:** This emphasizes the inherent dignity and rights of all individuals, including the right to privacy, freedom of expression, and freedom from discrimination. Any surveillance measure must be consistent with these fundamental rights.\n",
      "\n",
      "**Challenges and Considerations:**\n",
      "\n",
      "*   **Bias:** Surveillance technologies can perpetuate and amplify existing biases in society, leading to discriminatory outcomes.  It's crucial to address bias in algorithms, data collection, and law enforcement practices.\n",
      "*   **Chilling Effect:**  Widespread surveillance can have a chilling effect on free expression and dissent.  People may be less likely to speak out against the government or participate in political activities if they fear being monitored.\n",
      "*   **Technological Advancements:**  Surveillance technologies are constantly evolving, making it difficult to keep up with the latest threats to privacy.  Requires ongoing monitoring of technological developments and adaptation of legal and regulatory frameworks.\n",
      "*   **International Cooperation:**  Surveillance often crosses national borders, requiring international cooperation to protect privacy and prevent abuse.\n",
      "\n",
      "**In conclusion, balancing individual privacy and public safety in the age of advanced surveillance technologies requires a commitment to proportionality, transparency, accountability, and robust legal and ethical frameworks. It demands ongoing public dialogue, critical evaluation of technological advancements, and a willingness to adapt our approach as new challenges arise. The goal is to create a society that is both safe and free, where individuals can exercise their rights without fear of unwarranted surveillance.**\n",
      "\n",
      "\n",
      "# Response from competitor 3\n",
      "\n",
      "Balancing individual privacy with public safety in the context of advanced surveillance technologies requires a careful and nuanced approach. Here's a framework to guide decision-making:\n",
      "\n",
      "**Principles:**\n",
      "\n",
      "1. **Proportionality**: Surveillance measures should be proportionate to the threat or risk they aim to mitigate.\n",
      "2. **Necessity**: Surveillance should only be used when it is strictly necessary to achieve a legitimate public safety goal.\n",
      "3. **Transparency**: The use of surveillance technologies should be transparent, with clear guidelines and oversight mechanisms in place.\n",
      "4. **Accountability**: Those responsible for surveillance should be accountable for their actions and decisions.\n",
      "5. **Data protection**: Personal data collected through surveillance should be protected from unauthorized access, misuse, or exploitation.\n",
      "\n",
      "**Ethical frameworks:**\n",
      "\n",
      "1. **Utilitarianism**: This framework weighs the overall benefits of surveillance against the potential harms to individual privacy. It considers the greatest good for the greatest number, while minimizing harm to individuals.\n",
      "2. **Deontological ethics**: This framework emphasizes the importance of respecting individual rights and dignity, even if it means limiting the use of surveillance technologies.\n",
      "3. **Virtue ethics**: This framework considers the character and motivations of those using surveillance technologies, emphasizing the importance of integrity, fairness, and respect for individual privacy.\n",
      "\n",
      "**Decision-making process:**\n",
      "\n",
      "1. **Risk assessment**: Conduct a thorough risk assessment to determine the likelihood and potential impact of a threat or risk.\n",
      "2. **Alternative measures**: Explore alternative measures to surveillance, such as community engagement, education, or other forms of prevention.\n",
      "3. **Surveillance technology evaluation**: Evaluate the effectiveness and potential risks of various surveillance technologies, considering factors like accuracy, reliability, and potential for abuse.\n",
      "4. **Proportionate response**: Develop a proportionate response to the threat or risk, using the least intrusive and most effective surveillance technology available.\n",
      "5. **Oversight and review**: Establish ongoing oversight and review mechanisms to ensure that surveillance is used in a way that respects individual privacy and is proportionate to the threat or risk.\n",
      "6. **Public engagement and education**: Engage with the public and provide education on the use of surveillance technologies, their benefits, and their potential risks.\n",
      "7. **Regular evaluation and adjustment**: Regularly evaluate and adjust the use of surveillance technologies to ensure that they remain necessary, proportionate, and effective.\n",
      "\n",
      "**Examples of balancing individual privacy with public safety:**\n",
      "\n",
      "1. **Intelligent transportation systems**: Using surveillance cameras and sensors to monitor traffic flow and optimize traffic management, while anonymizing individual data to protect privacy.\n",
      "2. **Smart city initiatives**: Implementing surveillance technologies to enhance public safety, while ensuring that data is collected and used in a way that respects individual privacy and is transparent to the public.\n",
      "3. **Counter-terrorism efforts**: Using surveillance technologies to monitor and prevent terrorist activities, while ensuring that individual rights and freedoms are respected and that surveillance is proportionate to the threat.\n",
      "\n",
      "By following these principles, ethical frameworks, and decision-making processes, it is possible to balance the need for individual privacy with the demands of public safety in the context of advanced surveillance technologies.\n",
      "\n",
      "# Response from competitor 4\n",
      "\n",
      "Balancing individual privacy with public safety in the context of advanced surveillance technologies is a complex issue that requires careful consideration of various ethical frameworks. Here's a comprehensive approach to address this challenge:\n",
      "\n",
      "1. **Robust Oversight Mechanism**: Establish an independent review board or committee that oversees the use of advanced surveillance technologies. This oversight body should be composed of experts from various fields, including law enforcement, civil liberties organizations, and technology companies.\n",
      "2. **Transparency and Accountability**: Ensure transparency in the use of surveillance technologies, including their capabilities, limitations, and potential risks. Hold law enforcement agencies and private companies accountable for any misuse or abuse of these technologies.\n",
      "3. **Proportionality Principle**: Use surveillance technologies only when necessary to achieve a legitimate public safety objective, and ensure that they are proportional to the threat being addressed. This means balancing the level of intrusion against the potential benefits of increasing public safety.\n",
      "4. **Consent and Opt-Out Options**: Implement clear regulations for collecting and storing personal data, including opt-out options for individuals who wish\n",
      "\n",
      "\n",
      "\n",
      "Now respond with the JSON with the ranked order of the competitors, nothing else. Do not include markdown formatting or code blocks.\n"
     ]
    }
   ],
   "source": [
    "print(judge)"
   ]
  },
  {
   "cell_type": "code",
   "execution_count": 20,
   "metadata": {},
   "outputs": [],
   "source": [
    "judge_messages = [{\"role\": \"user\", \"content\": judge}]"
   ]
  },
  {
   "cell_type": "code",
   "execution_count": 22,
   "metadata": {},
   "outputs": [
    {
     "name": "stdout",
     "output_type": "stream",
     "text": [
      "{\"results\": [\"2\", \"1\", \"3\", \"4\"]}\n"
     ]
    }
   ],
   "source": [
    "# Judgement time!\n",
    "\n",
    "openai = OpenAI()\n",
    "response = openai.chat.completions.create(\n",
    "    model=\"gpt-5-nano-2025-08-07\",\n",
    "    messages=judge_messages,\n",
    ")\n",
    "results = response.choices[0].message.content\n",
    "print(results)\n"
   ]
  },
  {
   "cell_type": "code",
   "execution_count": 25,
   "metadata": {},
   "outputs": [
    {
     "name": "stdout",
     "output_type": "stream",
     "text": [
      "Rank 1: gemini-2.0-flash\n",
      "Rank 2: gpt-4o-mini\n",
      "Rank 3: llama-3.3-70b-versatile\n",
      "Rank 4: llama3.2\n"
     ]
    }
   ],
   "source": [
    "# OK let's turn this into results!\n",
    "\n",
    "results_dict = json.loads(results)\n",
    "ranks = results_dict[\"results\"]\n",
    "for index, result in enumerate(ranks):\n",
    "    competitor = competitors[int(result)-1]\n",
    "    print(f\"Rank {index+1}: {competitor}\")"
   ]
  },
  {
   "cell_type": "markdown",
   "metadata": {},
   "source": [
    "<table style=\"margin: 0; text-align: left; width:100%\">\n",
    "    <tr>\n",
    "        <td style=\"width: 150px; height: 150px; vertical-align: middle;\">\n",
    "            <img src=\"../assets/exercise.png\" width=\"150\" height=\"150\" style=\"display: block;\" />\n",
    "        </td>\n",
    "        <td>\n",
    "            <h2 style=\"color:#ff7800;\">Exercise</h2>\n",
    "            <span style=\"color:#ff7800;\">Which pattern(s) did this use? Try updating this to add another Agentic design pattern.\n",
    "            </span>\n",
    "        </td>\n",
    "    </tr>\n",
    "</table>"
   ]
  },
  {
   "cell_type": "markdown",
   "metadata": {},
   "source": [
    "<table style=\"margin: 0; text-align: left; width:100%\">\n",
    "    <tr>\n",
    "        <td style=\"width: 150px; height: 150px; vertical-align: middle;\">\n",
    "            <img src=\"../assets/business.png\" width=\"150\" height=\"150\" style=\"display: block;\" />\n",
    "        </td>\n",
    "        <td>\n",
    "            <h2 style=\"color:#00bfff;\">Commercial implications</h2>\n",
    "            <span style=\"color:#00bfff;\">These kinds of patterns - to send a task to multiple models, and evaluate results,\n",
    "            are common where you need to improve the quality of your LLM response. This approach can be universally applied\n",
    "            to business projects where accuracy is critical.\n",
    "            </span>\n",
    "        </td>\n",
    "    </tr>\n",
    "</table>"
   ]
  }
 ],
 "metadata": {
  "kernelspec": {
   "display_name": "agents",
   "language": "python",
   "name": "python3"
  },
  "language_info": {
   "codemirror_mode": {
    "name": "ipython",
    "version": 3
   },
   "file_extension": ".py",
   "mimetype": "text/x-python",
   "name": "python",
   "nbconvert_exporter": "python",
   "pygments_lexer": "ipython3",
   "version": "3.12.0"
  }
 },
 "nbformat": 4,
 "nbformat_minor": 2
}
