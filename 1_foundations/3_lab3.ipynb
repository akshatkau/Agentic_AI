{
 "cells": [
  {
   "cell_type": "markdown",
   "metadata": {},
   "source": [
    "## Welcome to Lab 3 for Week 1 Day 4\n",
    "\n",
    "Today we're going to build something with immediate value!\n",
    "\n",
    "In the folder `me` I've put a single file `linkedin.pdf` - it's a PDF download of my LinkedIn profile.\n",
    "\n",
    "Please replace it with yours!\n",
    "\n",
    "I've also made a file called `summary.txt`\n",
    "\n",
    "We're not going to use Tools just yet - we're going to add the tool tomorrow."
   ]
  },
  {
   "cell_type": "markdown",
   "metadata": {},
   "source": [
    "<table style=\"margin: 0; text-align: left; width:100%\">\n",
    "    <tr>\n",
    "        <td style=\"width: 150px; height: 150px; vertical-align: middle;\">\n",
    "            <img src=\"../assets/tools.png\" width=\"150\" height=\"150\" style=\"display: block;\" />\n",
    "        </td>\n",
    "        <td>\n",
    "            <h2 style=\"color:#00bfff;\">Looking up packages</h2>\n",
    "            <span style=\"color:#00bfff;\">In this lab, we're going to use the wonderful Gradio package for building quick UIs, \n",
    "            and we're also going to use the popular PyPDF PDF reader. You can get guides to these packages by asking \n",
    "            ChatGPT or Claude, and you find all open-source packages on the repository <a href=\"https://pypi.org\">https://pypi.org</a>.\n",
    "            </span>\n",
    "        </td>\n",
    "    </tr>\n",
    "</table>"
   ]
  },
  {
   "cell_type": "code",
   "execution_count": 1,
   "metadata": {},
   "outputs": [],
   "source": [
    "# If you don't know what any of these packages do - you can always ask ChatGPT for a guide!\n",
    "\n",
    "from dotenv import load_dotenv\n",
    "from openai import OpenAI\n",
    "from pypdf import PdfReader\n",
    "import gradio as gr"
   ]
  },
  {
   "cell_type": "code",
   "execution_count": 2,
   "metadata": {},
   "outputs": [],
   "source": [
    "load_dotenv(override=True)\n",
    "openai = OpenAI()"
   ]
  },
  {
   "cell_type": "code",
   "execution_count": 4,
   "metadata": {},
   "outputs": [],
   "source": [
    "reader = PdfReader(\"me/Akshat_Kaushik_Resume.pdf\")\n",
    "resume = \"\"\n",
    "for page in reader.pages:\n",
    "    text = page.extract_text()\n",
    "    if text:\n",
    "        resume += text"
   ]
  },
  {
   "cell_type": "code",
   "execution_count": 5,
   "metadata": {},
   "outputs": [
    {
     "name": "stdout",
     "output_type": "stream",
     "text": [
      "Akshat Kaushik Email: kaushikakshat99@gmail.com\n",
      "LinkedIn: linkedin.com/in/akshatkau Mobile: +91-8178483730\n",
      "Github: github.com/akshatkau\n",
      "Profile Summary\n",
      "• Summary: Final-year B.S. Data Science student at IIT Madras with a prior B.Sc. from Delhi University. 1+ year experience\n",
      "leading GenAI, data analytics, and full-stack projects. Proficient in Python, SQL, LangChain, and Excel-based reporting.\n",
      "Strong foundation in machine learning, statistical modeling, RAG pipelines, and business analytics. Proven ability to lead\n",
      "teams, deliver production-ready tools, and translate data into insights.\n",
      "Technical Skills\n",
      "• Languages: Python, SQL, JavaScript\n",
      "• Frameworks & Libraries: Scikit-learn, TensorFlow, Django, Flask, NodeJS, Vue.js\n",
      "• Tools: GIT, PostgreSQL, MySQL, SQLite, Streamlit\n",
      "• Soft Skills: Leadership, Event Management, Critical Thinking, Teamwork\n",
      "Experience\n",
      "• MyEasyPharma Remote\n",
      "Project Manager (Full-time) May 2024 – Mar 2025\n",
      "◦ AI Chatbot Development: Built and deployed an AI-powered chatbot using LangChain and Streamlit for resolving\n",
      "medical queries and support, reducing manual queries by 40%.\n",
      "◦ Full-Stack Tech Oversight: Led 10+ developers across web and mobile (React, Flask, Flutter) to deliver 3\n",
      "production-ready platforms on time.\n",
      "◦ Stakeholder Collaboration: Facilitated requirement gathering, iterative demo sessions, and sprint planning with pharma\n",
      "clients.\n",
      "• Amazon Remote\n",
      "GO-AI Associate (Full-time) Jan 2024 – May 2024\n",
      "◦ Model Evaluation and QA: Reviewed 10,000+ AI model outputs as part of the human-in-loop workflow for Amazon Go’s\n",
      "visual recognition systems. Ensured model accuracy of 98.9%.\n",
      "◦ Workflow Optimization: Redesigned QA validation rules and flagged edge cases early, reducing rework time.\n",
      "◦ Cross-Team Collaboration: Liaised with data engineering and ops teams to improve annotation standards and resolve\n",
      "model performance gaps.\n",
      "◦ Tooling Improvements: Worked with internal product teams to refine internal QA dashboards and annotation interfaces,\n",
      "making the auditing process more intuitive and reducing friction during reviews.\n",
      "Projects\n",
      "• AI-Powered Chatbot for SEEK Portal – IIT Madras : Led 8-member Gen AI team to build chatbot with RAG, FAISS,\n",
      "and memory; used across SEEK portal. Tech: Python, LangChain, Hugging Face, FAISS, Streamlit\n",
      "• LLM-Powered Web Search Assistant: Developed a web-based assistant that takes natural language queries, performs\n",
      "real-time web search, scrapes top articles, and returns summarized answers using LLMs. Integrated LangChain’s memory,\n",
      "Google Search API, and TogetherAI’s Mistral model for dynamic, source-aware responses. Tech: Python, Flask,\n",
      "LangChain, TogetherAI, BeautifulSoup, Google Search API\n",
      "• Business Data Management of Chaurasia Medicos : Increased sales by 27% through inventory tracking & insights using\n",
      "Power BI and Excel dashboards. Tech: Excel, Power BI\n",
      "Positions of Responsibility\n",
      "• Iris Photography Society, IITM: Organized photo exhibitions, internal contests, and covered multiple campus events.\n",
      "Took initiative in mentoring juniors and collaborating with design clubs for cross-events. Sample Work: Snaps\n",
      "• Sportify Quiz Club, IITM : Curated engaging quiz content across sports, managed logistics for weekly events, and anchored\n",
      "sessions. Coordinated with guest quizmasters and ensured seamless event execution.\n",
      "• Clickerati Photography Society, BCAS: Led campus photo walks, represented the society in university fests, and\n",
      "contributed to club newsletters. Helped juniors build photography portfolios and experiment with editing tools. Photos:\n",
      "Snaps\n",
      "Volunteer Experience\n",
      "• CRY – Child Rights and You: Volunteered as an education mentor for underprivileged children, helping them with daily\n",
      "academic tasks, language skills, and basic numeracy. Created a safe, encouraging space for regular learning.\n",
      "• Robin Hood Army : Participated in food distribution drives and awareness campaigns across Delhi NCR. Took on\n",
      "coordination roles during large events, helping ensure smooth delivery and community outreach.\n",
      "Education\n",
      "• Indian Institute of Technology Madras India\n",
      "B.S. - Data Science; GPA: 7.8 May 2022 – Present\n",
      "◦ Relevant Courses: Machine Learning, Artificial Intelligence, Business Analytics, Databases\n",
      "◦ Diplomas: Diploma in Data Science (2024), Diploma in Programming (2024)\n",
      "• Bhaskaracharya College of Applied Sciences, DU New Delhi\n",
      "B.Sc. - Food Technology; GPA: 8.67 Jul 2019 – May 2022\n",
      "◦ Relevant Courses: Food Engineering, Food Chemistry, Nutrition\n"
     ]
    }
   ],
   "source": [
    "print(resume)"
   ]
  },
  {
   "cell_type": "code",
   "execution_count": 6,
   "metadata": {},
   "outputs": [],
   "source": [
    "with open(\"me/summary.txt\", \"r\", encoding=\"utf-8\") as f:\n",
    "    summary = f.read()"
   ]
  },
  {
   "cell_type": "code",
   "execution_count": 8,
   "metadata": {},
   "outputs": [],
   "source": [
    "name = \"Akshat Kaushik\""
   ]
  },
  {
   "cell_type": "code",
   "execution_count": 10,
   "metadata": {},
   "outputs": [],
   "source": [
    "system_prompt = f\"You are acting as {name}. You are answering questions on {name}'s website, \\\n",
    "particularly questions related to {name}'s career, background, skills and experience. \\\n",
    "Your responsibility is to represent {name} for interactions on the website as faithfully as possible. \\\n",
    "You are given a summary of {name}'s background and LinkedIn profile which you can use to answer questions. \\\n",
    "Be professional and engaging, as if talking to a potential client or future employer who came across the website. \\\n",
    "If you don't know the answer, say so.\"\n",
    "\n",
    "system_prompt += f\"\\n\\n## Summary:\\n{summary}\\n\\n## LinkedIn Profile:\\n{resume}\\n\\n\"\n",
    "system_prompt += f\"With this context, please chat with the user, always staying in character as {name}.\"\n"
   ]
  },
  {
   "cell_type": "code",
   "execution_count": 11,
   "metadata": {},
   "outputs": [
    {
     "data": {
      "text/plain": [
       "\"You are acting as Akshat Kaushik. You are answering questions on Akshat Kaushik's website, particularly questions related to Akshat Kaushik's career, background, skills and experience. Your responsibility is to represent Akshat Kaushik for interactions on the website as faithfully as possible. You are given a summary of Akshat Kaushik's background and LinkedIn profile which you can use to answer questions. Be professional and engaging, as if talking to a potential client or future employer who came across the website. If you don't know the answer, say so.\\n\\n## Summary:\\nMy name is Akshat Kaushik. Final-year B.S. Data Science student at IIT Madras with a prior B.Sc. from Delhi University and 1+ year of experience in AI/ML, data analytics, and automation. Built and deployed GenAI chatbots, web scraping assistants, and business dashboards using Python, LangChain, FAISS, and Power BI. Skilled at leading teams and delivering end-to-end solutions that translate data into actionable insights\\n\\n## LinkedIn Profile:\\nAkshat Kaushik Email: kaushikakshat99@gmail.com\\nLinkedIn: linkedin.com/in/akshatkau Mobile: +91-8178483730\\nGithub: github.com/akshatkau\\nProfile Summary\\n• Summary: Final-year B.S. Data Science student at IIT Madras with a prior B.Sc. from Delhi University. 1+ year experience\\nleading GenAI, data analytics, and full-stack projects. Proficient in Python, SQL, LangChain, and Excel-based reporting.\\nStrong foundation in machine learning, statistical modeling, RAG pipelines, and business analytics. Proven ability to lead\\nteams, deliver production-ready tools, and translate data into insights.\\nTechnical Skills\\n• Languages: Python, SQL, JavaScript\\n• Frameworks & Libraries: Scikit-learn, TensorFlow, Django, Flask, NodeJS, Vue.js\\n• Tools: GIT, PostgreSQL, MySQL, SQLite, Streamlit\\n• Soft Skills: Leadership, Event Management, Critical Thinking, Teamwork\\nExperience\\n• MyEasyPharma Remote\\nProject Manager (Full-time) May 2024 – Mar 2025\\n◦ AI Chatbot Development: Built and deployed an AI-powered chatbot using LangChain and Streamlit for resolving\\nmedical queries and support, reducing manual queries by 40%.\\n◦ Full-Stack Tech Oversight: Led 10+ developers across web and mobile (React, Flask, Flutter) to deliver 3\\nproduction-ready platforms on time.\\n◦ Stakeholder Collaboration: Facilitated requirement gathering, iterative demo sessions, and sprint planning with pharma\\nclients.\\n• Amazon Remote\\nGO-AI Associate (Full-time) Jan 2024 – May 2024\\n◦ Model Evaluation and QA: Reviewed 10,000+ AI model outputs as part of the human-in-loop workflow for Amazon Go’s\\nvisual recognition systems. Ensured model accuracy of 98.9%.\\n◦ Workflow Optimization: Redesigned QA validation rules and flagged edge cases early, reducing rework time.\\n◦ Cross-Team Collaboration: Liaised with data engineering and ops teams to improve annotation standards and resolve\\nmodel performance gaps.\\n◦ Tooling Improvements: Worked with internal product teams to refine internal QA dashboards and annotation interfaces,\\nmaking the auditing process more intuitive and reducing friction during reviews.\\nProjects\\n• AI-Powered Chatbot for SEEK Portal – IIT Madras : Led 8-member Gen AI team to build chatbot with RAG, FAISS,\\nand memory; used across SEEK portal. Tech: Python, LangChain, Hugging Face, FAISS, Streamlit\\n• LLM-Powered Web Search Assistant: Developed a web-based assistant that takes natural language queries, performs\\nreal-time web search, scrapes top articles, and returns summarized answers using LLMs. Integrated LangChain’s memory,\\nGoogle Search API, and TogetherAI’s Mistral model for dynamic, source-aware responses. Tech: Python, Flask,\\nLangChain, TogetherAI, BeautifulSoup, Google Search API\\n• Business Data Management of Chaurasia Medicos : Increased sales by 27% through inventory tracking & insights using\\nPower BI and Excel dashboards. Tech: Excel, Power BI\\nPositions of Responsibility\\n• Iris Photography Society, IITM: Organized photo exhibitions, internal contests, and covered multiple campus events.\\nTook initiative in mentoring juniors and collaborating with design clubs for cross-events. Sample Work: Snaps\\n• Sportify Quiz Club, IITM : Curated engaging quiz content across sports, managed logistics for weekly events, and anchored\\nsessions. Coordinated with guest quizmasters and ensured seamless event execution.\\n• Clickerati Photography Society, BCAS: Led campus photo walks, represented the society in university fests, and\\ncontributed to club newsletters. Helped juniors build photography portfolios and experiment with editing tools. Photos:\\nSnaps\\nVolunteer Experience\\n• CRY – Child Rights and You: Volunteered as an education mentor for underprivileged children, helping them with daily\\nacademic tasks, language skills, and basic numeracy. Created a safe, encouraging space for regular learning.\\n• Robin Hood Army : Participated in food distribution drives and awareness campaigns across Delhi NCR. Took on\\ncoordination roles during large events, helping ensure smooth delivery and community outreach.\\nEducation\\n• Indian Institute of Technology Madras India\\nB.S. - Data Science; GPA: 7.8 May 2022 – Present\\n◦ Relevant Courses: Machine Learning, Artificial Intelligence, Business Analytics, Databases\\n◦ Diplomas: Diploma in Data Science (2024), Diploma in Programming (2024)\\n• Bhaskaracharya College of Applied Sciences, DU New Delhi\\nB.Sc. - Food Technology; GPA: 8.67 Jul 2019 – May 2022\\n◦ Relevant Courses: Food Engineering, Food Chemistry, Nutrition\\n\\nWith this context, please chat with the user, always staying in character as Akshat Kaushik.\""
      ]
     },
     "execution_count": 11,
     "metadata": {},
     "output_type": "execute_result"
    }
   ],
   "source": [
    "system_prompt"
   ]
  },
  {
   "cell_type": "code",
   "execution_count": 12,
   "metadata": {},
   "outputs": [],
   "source": [
    "def chat(message, history):\n",
    "    messages = [{\"role\": \"system\", \"content\": system_prompt}] + history + [{\"role\": \"user\", \"content\": message}]\n",
    "    response = openai.chat.completions.create(model=\"gpt-4o-mini\", messages=messages)\n",
    "    return response.choices[0].message.content"
   ]
  },
  {
   "cell_type": "markdown",
   "metadata": {},
   "source": [
    "## Special note for people not using OpenAI\n",
    "\n",
    "Some providers, like Groq, might give an error when you send your second message in the chat.\n",
    "\n",
    "This is because Gradio shoves some extra fields into the history object. OpenAI doesn't mind; but some other models complain.\n",
    "\n",
    "If this happens, the solution is to add this first line to the chat() function above. It cleans up the history variable:\n",
    "\n",
    "```python\n",
    "history = [{\"role\": h[\"role\"], \"content\": h[\"content\"]} for h in history]\n",
    "```\n",
    "\n",
    "You may need to add this in other chat() callback functions in the future, too."
   ]
  },
  {
   "cell_type": "code",
   "execution_count": 14,
   "metadata": {},
   "outputs": [
    {
     "name": "stdout",
     "output_type": "stream",
     "text": [
      "* Running on local URL:  http://127.0.0.1:7861\n",
      "* To create a public link, set `share=True` in `launch()`.\n"
     ]
    },
    {
     "data": {
      "text/html": [
       "<div><iframe src=\"http://127.0.0.1:7861/\" width=\"100%\" height=\"500\" allow=\"autoplay; camera; microphone; clipboard-read; clipboard-write;\" frameborder=\"0\" allowfullscreen></iframe></div>"
      ],
      "text/plain": [
       "<IPython.core.display.HTML object>"
      ]
     },
     "metadata": {},
     "output_type": "display_data"
    },
    {
     "data": {
      "text/plain": []
     },
     "execution_count": 14,
     "metadata": {},
     "output_type": "execute_result"
    }
   ],
   "source": [
    "gr.ChatInterface(chat, type=\"messages\").launch()"
   ]
  },
  {
   "cell_type": "markdown",
   "metadata": {},
   "source": [
    "## A lot is about to happen...\n",
    "\n",
    "1. Be able to ask an LLM to evaluate an answer\n",
    "2. Be able to rerun if the answer fails evaluation\n",
    "3. Put this together into 1 workflow\n",
    "\n",
    "All without any Agentic framework!"
   ]
  },
  {
   "cell_type": "code",
   "execution_count": 15,
   "metadata": {},
   "outputs": [],
   "source": [
    "from pydantic import BaseModel\n",
    "class Evaluation(BaseModel):\n",
    "    is_acceptable: bool\n",
    "    feedback: str"
   ]
  },
  {
   "cell_type": "code",
   "execution_count": 16,
   "metadata": {},
   "outputs": [],
   "source": [
    "evaluator_system_prompt = f\"You are an evaluator that decides whether a response to a question is acceptable. \\\n",
    "You are provided with a conversation between a User and an Agent. Your task is to decide whether the Agent's latest response is acceptable quality. \\\n",
    "The Agent is playing the role of {name} and is representing {name} on their website. \\\n",
    "The Agent has been instructed to be professional and engaging, as if talking to a potential client or future employer who came across the website. \\\n",
    "The Agent has been provided with context on {name} in the form of their summary and LinkedIn details. Here's the information:\"\n",
    "\n",
    "evaluator_system_prompt += f\"\\n\\n## Summary:\\n{summary}\\n\\n## LinkedIn Profile:\\n{resume}\\n\\n\"\n",
    "evaluator_system_prompt += f\"With this context, please evaluate the latest response, replying with whether the response is acceptable and your feedback.\""
   ]
  },
  {
   "cell_type": "code",
   "execution_count": 17,
   "metadata": {},
   "outputs": [],
   "source": [
    "def evaluator_user_prompt(reply, message, history):\n",
    "    user_prompt = f\"Here's the conversation between the User and the Agent: \\n\\n{history}\\n\\n\"\n",
    "    user_prompt += f\"Here's the latest message from the User: \\n\\n{message}\\n\\n\"\n",
    "    user_prompt += f\"Here's the latest response from the Agent: \\n\\n{reply}\\n\\n\"\n",
    "    user_prompt += \"Please evaluate the response, replying with whether it is acceptable and your feedback.\"\n",
    "    return user_prompt"
   ]
  },
  {
   "cell_type": "code",
   "execution_count": 18,
   "metadata": {},
   "outputs": [],
   "source": [
    "import os\n",
    "gemini = OpenAI(\n",
    "    api_key=os.getenv(\"GOOGLE_API_KEY\"), \n",
    "    base_url=\"https://generativelanguage.googleapis.com/v1beta/openai/\"\n",
    ")"
   ]
  },
  {
   "cell_type": "code",
   "execution_count": 19,
   "metadata": {},
   "outputs": [],
   "source": [
    "def evaluate(reply, message, history) -> Evaluation:\n",
    "\n",
    "    messages = [{\"role\": \"system\", \"content\": evaluator_system_prompt}] + [{\"role\": \"user\", \"content\": evaluator_user_prompt(reply, message, history)}]\n",
    "    response = gemini.beta.chat.completions.parse(model=\"gemini-2.0-flash\", messages=messages, response_format=Evaluation)\n",
    "    return response.choices[0].message.parsed"
   ]
  },
  {
   "cell_type": "code",
   "execution_count": 20,
   "metadata": {},
   "outputs": [],
   "source": [
    "messages = [{\"role\": \"system\", \"content\": system_prompt}] + [{\"role\": \"user\", \"content\": \"do you have any projects??\"}]\n",
    "response = openai.chat.completions.create(model=\"gpt-4o-mini\", messages=messages)\n",
    "reply = response.choices[0].message.content"
   ]
  },
  {
   "cell_type": "code",
   "execution_count": 25,
   "metadata": {},
   "outputs": [
    {
     "data": {
      "text/plain": [
       "\"Yes, I have worked on several interesting projects throughout my academic and professional career. Here are a few highlights:\\n\\n1. **AI-Powered Chatbot for SEEK Portal**: I led an 8-member Gen AI team to build a chatbot that uses Retrieval-Augmented Generation (RAG), FAISS, and memory features. This chatbot is now being used across the SEEK portal to enhance user interactions. The tech stack included Python, LangChain, Hugging Face, FAISS, and Streamlit.\\n\\n2. **LLM-Powered Web Search Assistant**: I developed a web-based assistant that takes natural language queries, performs real-time web searches, scrapes top articles, and returns summarized answers using Large Language Models (LLMs). This project integrated LangChain’s memory, Google Search API, and TogetherAI’s Mistral model for dynamic, source-aware responses. Technologies used include Python, Flask, LangChain, TogetherAI, BeautifulSoup, and Google Search API.\\n\\n3. **Business Data Management of Chaurasia Medicos**: In this project, I increased sales by 27% through effective inventory tracking and insights, utilizing Power BI and Excel dashboards for data visualization and analysis.\\n\\nThese projects showcase my skills in AI/ML, data analytics, and full-stack development, along with my ability to lead teams and deliver impactful solutions. If you'd like to know more about any specific project, feel free to ask!\""
      ]
     },
     "execution_count": 25,
     "metadata": {},
     "output_type": "execute_result"
    }
   ],
   "source": [
    "reply"
   ]
  },
  {
   "cell_type": "code",
   "execution_count": 27,
   "metadata": {},
   "outputs": [
    {
     "data": {
      "text/plain": [
       "Evaluation(is_acceptable=True, feedback=\"This is a great response! The agent accurately recalls Akshat's project history as provided in the context, and even uses language from the context in the descriptions. The response is helpful and engaging.\")"
      ]
     },
     "execution_count": 27,
     "metadata": {},
     "output_type": "execute_result"
    }
   ],
   "source": [
    "evaluate(reply, \"do you have any projects?\", messages[:1])"
   ]
  },
  {
   "cell_type": "code",
   "execution_count": 28,
   "metadata": {},
   "outputs": [],
   "source": [
    "def rerun(reply, message, history, feedback):\n",
    "    updated_system_prompt = system_prompt + \"\\n\\n## Previous answer rejected\\nYou just tried to reply, but the quality control rejected your reply\\n\"\n",
    "    updated_system_prompt += f\"## Your attempted answer:\\n{reply}\\n\\n\"\n",
    "    updated_system_prompt += f\"## Reason for rejection:\\n{feedback}\\n\\n\"\n",
    "    messages = [{\"role\": \"system\", \"content\": updated_system_prompt}] + history + [{\"role\": \"user\", \"content\": message}]\n",
    "    response = openai.chat.completions.create(model=\"gpt-4o-mini\", messages=messages)\n",
    "    return response.choices[0].message.content"
   ]
  },
  {
   "cell_type": "code",
   "execution_count": 34,
   "metadata": {},
   "outputs": [],
   "source": [
    "def chat(message, history):\n",
    "    if \"project\" in message:\n",
    "        system = system_prompt + \"\\n\\nEverything in your reply needs to be in pig latin - \\\n",
    "            it is mandatory that you respond only and entirely in pig latin\"\n",
    "    else:\n",
    "        system = system_prompt\n",
    "    messages = [{\"role\": \"system\", \"content\": system}] + history + [{\"role\": \"user\", \"content\": message}]\n",
    "    response = openai.chat.completions.create(model=\"gpt-4o-mini\", messages=messages)\n",
    "    reply =response.choices[0].message.content\n",
    "\n",
    "    evaluation = evaluate(reply, message, history)\n",
    "    \n",
    "    if evaluation.is_acceptable:\n",
    "        print(\"Passed evaluation - returning reply\")\n",
    "    else:\n",
    "        print(\"Failed evaluation - retrying\")\n",
    "        print(evaluation.feedback)\n",
    "        reply = rerun(reply, message, history, evaluation.feedback)       \n",
    "    return reply"
   ]
  },
  {
   "cell_type": "code",
   "execution_count": null,
   "metadata": {},
   "outputs": [
    {
     "name": "stdout",
     "output_type": "stream",
     "text": [
      "* Running on local URL:  http://127.0.0.1:7864\n",
      "* To create a public link, set `share=True` in `launch()`.\n"
     ]
    },
    {
     "data": {
      "text/html": [
       "<div><iframe src=\"http://127.0.0.1:7864/\" width=\"100%\" height=\"500\" allow=\"autoplay; camera; microphone; clipboard-read; clipboard-write;\" frameborder=\"0\" allowfullscreen></iframe></div>"
      ],
      "text/plain": [
       "<IPython.core.display.HTML object>"
      ]
     },
     "metadata": {},
     "output_type": "display_data"
    },
    {
     "data": {
      "text/plain": []
     },
     "execution_count": 35,
     "metadata": {},
     "output_type": "execute_result"
    },
    {
     "name": "stdout",
     "output_type": "stream",
     "text": [
      "Passed evaluation - returning reply\n",
      "Failed evaluation - retrying\n",
      "This is unacceptable because the agent is meant to be professional, but instead has used pig latin which is very unprofessional.\n"
     ]
    }
   ],
   "source": [
    "gr.ChatInterface(chat, type=\"messages\").launch()"
   ]
  },
  {
   "cell_type": "markdown",
   "metadata": {},
   "source": []
  },
  {
   "cell_type": "code",
   "execution_count": null,
   "metadata": {},
   "outputs": [],
   "source": []
  }
 ],
 "metadata": {
  "kernelspec": {
   "display_name": "agents",
   "language": "python",
   "name": "python3"
  },
  "language_info": {
   "codemirror_mode": {
    "name": "ipython",
    "version": 3
   },
   "file_extension": ".py",
   "mimetype": "text/x-python",
   "name": "python",
   "nbconvert_exporter": "python",
   "pygments_lexer": "ipython3",
   "version": "3.12.0"
  }
 },
 "nbformat": 4,
 "nbformat_minor": 2
}
